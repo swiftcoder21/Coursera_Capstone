{
 "cells": [
  {
   "cell_type": "markdown",
   "metadata": {},
   "source": [
    "# Coursera IBM capstone project -  The Battle of Neighborhoods"
   ]
  },
  {
   "cell_type": "markdown",
   "metadata": {},
   "source": [
    "<p> project title: </p>"
   ]
  },
  {
   "cell_type": "markdown",
   "metadata": {},
   "source": [
    "<h2>Finding a proper location for opening a new business in the fututre that is suitable during the ‘covid - 19’ pandemic in london, United Kingdom (U.K) using Data science and analytical tools</h2>"
   ]
  },
  {
   "cell_type": "markdown",
   "metadata": {},
   "source": [
    "<p> Author: Raihan Insan Habibi</p>"
   ]
  },
  {
   "cell_type": "markdown",
   "metadata": {},
   "source": [
    "<b>1. Introduction / business problems</b>"
   ]
  },
  {
   "cell_type": "markdown",
   "metadata": {},
   "source": [
    "In the middle of march, the UK was struck by a deadly virus called the coronavirus also known by its scientific name 'covid-19'. and the rate of the virus kept increasing dramatically till February 1, 2021, and till that day the rate of the corona virus started to decrease gradually. Right now, social distancing has changed various methods for many companies. With time, things are gently progressing back to normal, people who want to open up a business in the future will have to have to find a suitable location that will be effective for the industry business, even during the 'covid-19' pandemic. Finding a location that is habitable requires various factors that data scientists need to consider and process, as well as all of the access to data information around the neighbourhood. In this report, I will be describing a simple analysis of data from the whole city of london, United Kingdom (U.K) to find a suitable location to open up a new business."
   ]
  },
  {
   "cell_type": "markdown",
   "metadata": {},
   "source": [
    "<b>2. Data</b>"
   ]
  },
  {
   "cell_type": "markdown",
   "metadata": {},
   "source": [
    "(all data resources will be here)"
   ]
  },
  {
   "cell_type": "code",
   "execution_count": 104,
   "metadata": {},
   "outputs": [
    {
     "name": "stdout",
     "output_type": "stream",
     "text": [
      "Requirement already satisfied: bs4 in c:\\users\\mathl\\anaconda3\\lib\\site-packages (0.0.1)"
     ]
    },
    {
     "name": "stderr",
     "output_type": "stream",
     "text": [
      "WARNING: You are using pip version 20.3.3; however, version 21.0.1 is available.\n",
      "You should consider upgrading via the 'c:\\users\\mathl\\anaconda3\\python.exe -m pip install --upgrade pip' command.\n"
     ]
    },
    {
     "name": "stdout",
     "output_type": "stream",
     "text": [
      "\n",
      "Requirement already satisfied: beautifulsoup4 in c:\\users\\mathl\\anaconda3\\lib\\site-packages (from bs4) (4.9.1)\n",
      "Requirement already satisfied: soupsieve>1.2 in c:\\users\\mathl\\anaconda3\\lib\\site-packages (from beautifulsoup4->bs4) (2.0.1)\n"
     ]
    }
   ],
   "source": [
    "#!pip install geopy\n",
    "#!pip install folium\n",
    "#!pip install bs4"
   ]
  },
  {
   "cell_type": "code",
   "execution_count": null,
   "metadata": {},
   "outputs": [],
   "source": [
    "import numpy as np\n",
    "import pandas as pd\n",
    "import requests\n",
    "from geopy.geocoders import Nominatim\n",
    "import folium\n",
    "from pandas.io.json import json_normalize\n",
    "import bs4\n",
    "from urllib.request import urlopen as uReq\n",
    "from bs4 import BeautifulSoup as soup\n",
    "print(\"libaries imported\")"
   ]
  },
  {
   "cell_type": "code",
   "execution_count": null,
   "metadata": {},
   "outputs": [],
   "source": [
    "CLIENT_ID = 'PT4SWYOA3Q4IJPMPYFKE4MYTKG3YBFPBHPUB01C5MVC0BCHE' \n",
    "CLIENT_SECRET = 'ZYIMZWRM5PDVXZGFOJXKRZ2H423NPVFUWLBQXHDYMJSMDGEL' \n",
    "VERSION = '20180604'\n",
    "LIMIT = 30\n",
    "\n",
    "address = 'London, Greater London, United Kingdom'\n",
    "\n",
    "geolocator = Nominatim(user_agent=\"foursquare_agent\")\n",
    "location = geolocator.geocode(address)\n",
    "latitude = location.latitude\n",
    "longitude = location.longitude\n",
    "coords = (latitude, longitude)\n",
    "print(coords)\n",
    "search_query = 'apartment'\n",
    "radius = 2000\n",
    "LIMIT = 50"
   ]
  },
  {
   "cell_type": "code",
   "execution_count": null,
   "metadata": {},
   "outputs": [],
   "source": [
    "url = 'https://api.foursquare.com/v2/venues/search?client_id={}&client_secret={}&ll={},{}&v={}&query={}&radius={}&limit={}'.format(CLIENT_ID, CLIENT_SECRET, latitude, longitude, VERSION, search_query, radius, LIMIT)\n",
    "results = requests.get(url).json()\n",
    "url"
   ]
  },
  {
   "cell_type": "code",
   "execution_count": null,
   "metadata": {},
   "outputs": [],
   "source": [
    "venues = results['response']['venues']\n",
    "df = json_normalize(venues)"
   ]
  },
  {
   "cell_type": "code",
   "execution_count": null,
   "metadata": {},
   "outputs": [],
   "source": [
    "#cleaning the data\n",
    "df = df.drop([\"id\", \"categories\",\"location.country\",\"referralId\", \"hasPerk\",'location.labeledLatLngs', 'location.cc','location.formattedAddress' ], axis = 1)\n",
    "df = df.rename(columns = {\"name\":\"Residents\",\n",
    "                          \"location.lat\":\"latitude\", \n",
    "                          'location.lng':\"longitude\",\n",
    "                          'location.distance':\"distance\",\n",
    "                          'location.address':\"address\", \n",
    "                          \"location.city\":\"city\",\n",
    "                          'location.crossStreet':\"street name\",\n",
    "                           'location.postalCode':\"postcode\",\n",
    "                          'location.neighborhood':\"neighborhood\",\n",
    "                           'location.state':\"state\"\n",
    "                         })\n",
    "new_distance = []\n",
    "df[\"distance\"] = df[\"distance\"].astype(str)\n",
    "df[\"distance\"] = df[\"distance\"].tolist()\n",
    "df.head()"
   ]
  },
  {
   "cell_type": "code",
   "execution_count": null,
   "metadata": {},
   "outputs": [],
   "source": [
    "london_map = folium.Map(coords, zoom_start = 12)\n",
    "lat_list = df[\"latitude\"].tolist()\n",
    "lng_list = df[\"longitude\"].tolist()\n",
    "for x in range(len(lat_list)):\n",
    "    folium.Marker([lat_list[x], lng_list[x]]).add_to(london_map)"
   ]
  },
  {
   "cell_type": "code",
   "execution_count": null,
   "metadata": {
    "scrolled": true
   },
   "outputs": [],
   "source": [
    "london_map"
   ]
  },
  {
   "cell_type": "markdown",
   "metadata": {},
   "source": [
    "In Here im getting all the location for all residentail area because a good business and rate of virus depends on the population of people in london "
   ]
  },
  {
   "cell_type": "code",
   "execution_count": null,
   "metadata": {},
   "outputs": [],
   "source": [
    "columns = []\n",
    "list_inside = []\n",
    "my_url = \"https://en.wikipedia.org/wiki/List_of_areas_of_London\"\n",
    "uClient = uReq(my_url)\n",
    "page_html = uClient.read()\n",
    "uClient.close()\n",
    "page_soup = soup(page_html, \"html.parser\")\n",
    "big_container = page_soup.findAll(\"div\", {\"id\":\"mw-content-text\"}) \n",
    "table_container = big_container[0].findAll(\"table\")  \n",
    "in_table = table_container[1].findAll(\"tbody\")\n",
    "row_table = in_table[0].findAll(\"tr\")\n",
    "each_row = in_table[0].findAll(\"th\")\n",
    "dataframe = {}\n",
    "\n",
    "\n"
   ]
  },
  {
   "cell_type": "code",
   "execution_count": null,
   "metadata": {},
   "outputs": [],
   "source": [
    "for x in each_row:\n",
    "    columns.append(x.text.rstrip(\"\\n\"))\n",
    "for row_container in row_table:\n",
    "    row_list = row_container.findAll(\"td\")\n",
    "    for x in row_list:\n",
    "        list_inside.append(x.text.rstrip(\"\\n\"))\n",
    "        \n",
    "\n",
    "    "
   ]
  },
  {
   "cell_type": "code",
   "execution_count": null,
   "metadata": {},
   "outputs": [],
   "source": [
    "table_container[1]\n"
   ]
  },
  {
   "cell_type": "code",
   "execution_count": null,
   "metadata": {},
   "outputs": [],
   "source": [
    "row_table"
   ]
  },
  {
   "cell_type": "code",
   "execution_count": null,
   "metadata": {},
   "outputs": [],
   "source": [
    "\n",
    "\n",
    "def table_maker(headers, columns_list):\n",
    "    no_cols = len(headers)\n",
    "    df_list = []\n",
    "    starting_point = -1 * no_cols\n",
    "    test_run = len(columns_list) // no_cols - 1\n",
    "    end_point = len(columns_list) // no_cols\n",
    "    variable_list = []\n",
    "    var = {}\n",
    "\n",
    "    for p in range(no_cols):\n",
    "        f_var = int(p)\n",
    "        variable_list.append(f_var)\n",
    "\n",
    "    for x in variable_list:\n",
    "        var[x] = []\n",
    "\n",
    "    try:\n",
    "        while test_run >= 0:\n",
    "            starting_point += no_cols\n",
    "            end_point += no_cols\n",
    "            df_list.append(columns_list[starting_point:end_point])\n",
    "            test_run -= 1\n",
    "\n",
    "    except:\n",
    "        print(\"not divisible\")\n",
    "\n",
    "    for x1 in range(no_cols):\n",
    "        for y in df_list:\n",
    "            var[x1].append(y[x1])\n",
    "\n",
    "    df = pd.DataFrame(var)\n",
    "    renamed = {}\n",
    "    for p in range(no_cols):\n",
    "        renamed[p] = columns[p]\n",
    "        dataframe_final = df.rename(columns=renamed)\n",
    "        \n",
    "    \n",
    "    #print(dataframe_final.columns.tolist())\n",
    "    return dataframe_final\n",
    "    \n",
    "    \n"
   ]
  },
  {
   "cell_type": "code",
   "execution_count": null,
   "metadata": {},
   "outputs": [],
   "source": [
    "dataframe_final = table_maker(columns, list_inside)\n",
    "\n",
    "# cleaning the dataframe\n",
    "dataframe_final = dataframe_final.rename(columns = {\"Location\":\"Part in London\", \n",
    "                                                    \"Postcode district\":\"Postcode\"})\n",
    "\n",
    "dataframe_final = dataframe_final.drop(columns=['Dial\\xa0code', 'OS grid ref'], axis = 1)\n",
    "\n",
    "dataframe_final"
   ]
  },
  {
   "cell_type": "code",
   "execution_count": null,
   "metadata": {},
   "outputs": [],
   "source": [
    "london_part = table[\"Part in London\"].tolist()\n",
    "long_list = []\n",
    "lat_list = []\n",
    "for part in london_part:\n",
    "    address = part + \", London\"\n",
    "    try:\n",
    "        geolocator = Nominatim(user_agent=\"foursquare_agent\")\n",
    "        location = geolocator.geocode(address)\n",
    "        latitude = location.latitude\n",
    "        longitude = location.longitude\n",
    "        long_list.append(longitude)\n",
    "        lat_list.append(latitude )\n",
    "        \n",
    "    except: \n",
    "        pass\n",
    "    "
   ]
  },
  {
   "cell_type": "code",
   "execution_count": null,
   "metadata": {},
   "outputs": [],
   "source": [
    "address = 'Abbey Wood, London'\n",
    "\n",
    "geolocator = Nominatim(user_agent=\"foursquare_agent\")\n",
    "location = geolocator.geocode(address)\n",
    "latitude = location.latitude\n",
    "longitude = location.longitude\n",
    "coords = (latitude, longitude)\n",
    "print(coords)"
   ]
  },
  {
   "cell_type": "code",
   "execution_count": null,
   "metadata": {},
   "outputs": [],
   "source": []
  }
 ],
 "metadata": {
  "kernelspec": {
   "display_name": "Python 3.7.7 64-bit ('monopoly': conda)",
   "language": "python",
   "name": "python37764bitmonopolyconda00269629c1734ae883031c5d8b160805"
  },
  "language_info": {
   "codemirror_mode": {
    "name": "ipython",
    "version": 3
   },
   "file_extension": ".py",
   "mimetype": "text/x-python",
   "name": "python",
   "nbconvert_exporter": "python",
   "pygments_lexer": "ipython3",
   "version": "3.7.7"
  }
 },
 "nbformat": 4,
 "nbformat_minor": 4
}
