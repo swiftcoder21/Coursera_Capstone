{
 "cells": [
  {
   "cell_type": "code",
   "execution_count": 1,
   "metadata": {},
   "outputs": [],
   "source": [
    "import requests\n",
    "from geopy.geocoders import Nominatim\n",
    "from pandas.io.json import json_normalize"
   ]
  },
  {
   "cell_type": "code",
   "execution_count": 12,
   "metadata": {},
   "outputs": [
    {
     "name": "stdout",
     "output_type": "stream",
     "text": [
      "(24.638916, 46.7160104)\n"
     ]
    }
   ],
   "source": [
    "CLIENT_ID = 'P2X2VEDCLZQPBJVLBKFLTJIOJIMQENGZHXXCOLDAAAP1ATVA' \n",
    "CLIENT_SECRET = 'BKOROERBQIVIEJ2V0KKZRORBGBD5GZRSEDLCQTJJWSMIRAZU' \n",
    "VERSION = '20180604'\n",
    "LIMIT = 30\n",
    "\n",
    "address = 'saudia arabia, riyadh'\n",
    "\n",
    "geolocator = Nominatim(user_agent=\"foursquare_agent\")\n",
    "location = geolocator.geocode(address)\n",
    "latitude = location.latitude\n",
    "longitude = location.longitude\n",
    "coords = (latitude, longitude)\n",
    "print(coords)\n",
    "search_query = 'apartment'\n",
    "radius = 2000\n",
    "LIMIT = 10"
   ]
  },
  {
   "cell_type": "code",
   "execution_count": 13,
   "metadata": {},
   "outputs": [
    {
     "data": {
      "text/plain": [
       "'https://api.foursquare.com/v2/venues/search?client_id=P2X2VEDCLZQPBJVLBKFLTJIOJIMQENGZHXXCOLDAAAP1ATVA&client_secret=BKOROERBQIVIEJ2V0KKZRORBGBD5GZRSEDLCQTJJWSMIRAZU&ll=24.638916,46.7160104&v=20180604&query=apartment&radius=2000&limit=10'"
      ]
     },
     "execution_count": 13,
     "metadata": {},
     "output_type": "execute_result"
    }
   ],
   "source": [
    "url = 'https://api.foursquare.com/v2/venues/search?client_id={}&client_secret={}&ll={},{}&v={}&query={}&radius={}&limit={}'.format(CLIENT_ID, CLIENT_SECRET, latitude, longitude, VERSION, search_query, radius, LIMIT)\n",
    "results = requests.get(url).json()\n",
    "url"
   ]
  },
  {
   "cell_type": "code",
   "execution_count": 14,
   "metadata": {},
   "outputs": [
    {
     "data": {
      "text/plain": [
       "{'meta': {'code': 200, 'requestId': '603ad08bfea1e97dce9bd74b'},\n",
       " 'response': {'venues': [{'id': '54b1815c498e341bc729b4b7',\n",
       "    'name': 'My apartment 😌',\n",
       "    'location': {'lat': 24.637373,\n",
       "     'lng': 46.712853,\n",
       "     'labeledLatLngs': [{'label': 'display',\n",
       "       'lat': 24.637373,\n",
       "       'lng': 46.712853}],\n",
       "     'distance': 362,\n",
       "     'cc': 'SA',\n",
       "     'country': 'المملكة العربية السعودية',\n",
       "     'formattedAddress': ['المملكة العربية السعودية']},\n",
       "    'categories': [{'id': '4d954b06a243a5684965b473',\n",
       "      'name': 'Residential Building (Apartment / Condo)',\n",
       "      'pluralName': 'Residential Buildings (Apartments / Condos)',\n",
       "      'shortName': 'Residential',\n",
       "      'icon': {'prefix': 'https://ss3.4sqi.net/img/categories_v2/building/apartment_',\n",
       "       'suffix': '.png'},\n",
       "      'primary': True}],\n",
       "    'referralId': 'v-1614467211',\n",
       "    'hasPerk': False},\n",
       "   {'id': '564b7369498e07de7c311b04',\n",
       "    'name': '503 apartment',\n",
       "    'location': {'lat': 24.635041,\n",
       "     'lng': 46.717047,\n",
       "     'labeledLatLngs': [{'label': 'display',\n",
       "       'lat': 24.635041,\n",
       "       'lng': 46.717047}],\n",
       "     'distance': 443,\n",
       "     'cc': 'SA',\n",
       "     'country': 'المملكة العربية السعودية',\n",
       "     'formattedAddress': ['المملكة العربية السعودية']},\n",
       "    'categories': [{'id': '4d954b06a243a5684965b473',\n",
       "      'name': 'Residential Building (Apartment / Condo)',\n",
       "      'pluralName': 'Residential Buildings (Apartments / Condos)',\n",
       "      'shortName': 'Residential',\n",
       "      'icon': {'prefix': 'https://ss3.4sqi.net/img/categories_v2/building/apartment_',\n",
       "       'suffix': '.png'},\n",
       "      'primary': True}],\n",
       "    'referralId': 'v-1614467211',\n",
       "    'hasPerk': False}]}}"
      ]
     },
     "execution_count": 14,
     "metadata": {},
     "output_type": "execute_result"
    }
   ],
   "source": [
    "results"
   ]
  },
  {
   "cell_type": "code",
   "execution_count": 15,
   "metadata": {},
   "outputs": [
    {
     "name": "stderr",
     "output_type": "stream",
     "text": [
      "<ipython-input-15-f833726f904b>:2: FutureWarning: pandas.io.json.json_normalize is deprecated, use pandas.json_normalize instead\n",
      "  df = json_normalize(venues)\n"
     ]
    },
    {
     "data": {
      "text/html": [
       "<div>\n",
       "<style scoped>\n",
       "    .dataframe tbody tr th:only-of-type {\n",
       "        vertical-align: middle;\n",
       "    }\n",
       "\n",
       "    .dataframe tbody tr th {\n",
       "        vertical-align: top;\n",
       "    }\n",
       "\n",
       "    .dataframe thead th {\n",
       "        text-align: right;\n",
       "    }\n",
       "</style>\n",
       "<table border=\"1\" class=\"dataframe\">\n",
       "  <thead>\n",
       "    <tr style=\"text-align: right;\">\n",
       "      <th></th>\n",
       "      <th>id</th>\n",
       "      <th>name</th>\n",
       "      <th>categories</th>\n",
       "      <th>referralId</th>\n",
       "      <th>hasPerk</th>\n",
       "      <th>location.lat</th>\n",
       "      <th>location.lng</th>\n",
       "      <th>location.labeledLatLngs</th>\n",
       "      <th>location.distance</th>\n",
       "      <th>location.cc</th>\n",
       "      <th>location.country</th>\n",
       "      <th>location.formattedAddress</th>\n",
       "    </tr>\n",
       "  </thead>\n",
       "  <tbody>\n",
       "    <tr>\n",
       "      <th>0</th>\n",
       "      <td>54b1815c498e341bc729b4b7</td>\n",
       "      <td>My apartment 😌</td>\n",
       "      <td>[{'id': '4d954b06a243a5684965b473', 'name': 'R...</td>\n",
       "      <td>v-1614467211</td>\n",
       "      <td>False</td>\n",
       "      <td>24.637373</td>\n",
       "      <td>46.712853</td>\n",
       "      <td>[{'label': 'display', 'lat': 24.637373, 'lng':...</td>\n",
       "      <td>362</td>\n",
       "      <td>SA</td>\n",
       "      <td>المملكة العربية السعودية</td>\n",
       "      <td>[المملكة العربية السعودية]</td>\n",
       "    </tr>\n",
       "    <tr>\n",
       "      <th>1</th>\n",
       "      <td>564b7369498e07de7c311b04</td>\n",
       "      <td>503 apartment</td>\n",
       "      <td>[{'id': '4d954b06a243a5684965b473', 'name': 'R...</td>\n",
       "      <td>v-1614467211</td>\n",
       "      <td>False</td>\n",
       "      <td>24.635041</td>\n",
       "      <td>46.717047</td>\n",
       "      <td>[{'label': 'display', 'lat': 24.635041, 'lng':...</td>\n",
       "      <td>443</td>\n",
       "      <td>SA</td>\n",
       "      <td>المملكة العربية السعودية</td>\n",
       "      <td>[المملكة العربية السعودية]</td>\n",
       "    </tr>\n",
       "  </tbody>\n",
       "</table>\n",
       "</div>"
      ],
      "text/plain": [
       "                         id            name  \\\n",
       "0  54b1815c498e341bc729b4b7  My apartment 😌   \n",
       "1  564b7369498e07de7c311b04   503 apartment   \n",
       "\n",
       "                                          categories    referralId  hasPerk  \\\n",
       "0  [{'id': '4d954b06a243a5684965b473', 'name': 'R...  v-1614467211    False   \n",
       "1  [{'id': '4d954b06a243a5684965b473', 'name': 'R...  v-1614467211    False   \n",
       "\n",
       "   location.lat  location.lng  \\\n",
       "0     24.637373     46.712853   \n",
       "1     24.635041     46.717047   \n",
       "\n",
       "                             location.labeledLatLngs  location.distance  \\\n",
       "0  [{'label': 'display', 'lat': 24.637373, 'lng':...                362   \n",
       "1  [{'label': 'display', 'lat': 24.635041, 'lng':...                443   \n",
       "\n",
       "  location.cc          location.country   location.formattedAddress  \n",
       "0          SA  المملكة العربية السعودية  [المملكة العربية السعودية]  \n",
       "1          SA  المملكة العربية السعودية  [المملكة العربية السعودية]  "
      ]
     },
     "execution_count": 15,
     "metadata": {},
     "output_type": "execute_result"
    }
   ],
   "source": [
    "venues = results['response']['venues']\n",
    "df = json_normalize(venues)\n",
    "df\n"
   ]
  },
  {
   "cell_type": "code",
   "execution_count": 16,
   "metadata": {},
   "outputs": [
    {
     "name": "stdout",
     "output_type": "stream",
     "text": [
      "['id', 'name', 'categories', 'referralId', 'hasPerk', 'location.lat', 'location.lng', 'location.labeledLatLngs', 'location.distance', 'location.cc', 'location.country', 'location.formattedAddress']\n"
     ]
    },
    {
     "data": {
      "text/html": [
       "<div>\n",
       "<style scoped>\n",
       "    .dataframe tbody tr th:only-of-type {\n",
       "        vertical-align: middle;\n",
       "    }\n",
       "\n",
       "    .dataframe tbody tr th {\n",
       "        vertical-align: top;\n",
       "    }\n",
       "\n",
       "    .dataframe thead th {\n",
       "        text-align: right;\n",
       "    }\n",
       "</style>\n",
       "<table border=\"1\" class=\"dataframe\">\n",
       "  <thead>\n",
       "    <tr style=\"text-align: right;\">\n",
       "      <th></th>\n",
       "      <th>Residents</th>\n",
       "      <th>latitude</th>\n",
       "      <th>longitude</th>\n",
       "      <th>distance</th>\n",
       "    </tr>\n",
       "  </thead>\n",
       "  <tbody>\n",
       "    <tr>\n",
       "      <th>0</th>\n",
       "      <td>My apartment 😌</td>\n",
       "      <td>24.637373</td>\n",
       "      <td>46.712853</td>\n",
       "      <td>362</td>\n",
       "    </tr>\n",
       "    <tr>\n",
       "      <th>1</th>\n",
       "      <td>503 apartment</td>\n",
       "      <td>24.635041</td>\n",
       "      <td>46.717047</td>\n",
       "      <td>443</td>\n",
       "    </tr>\n",
       "  </tbody>\n",
       "</table>\n",
       "</div>"
      ],
      "text/plain": [
       "        Residents   latitude  longitude distance\n",
       "0  My apartment 😌  24.637373  46.712853      362\n",
       "1   503 apartment  24.635041  46.717047      443"
      ]
     },
     "execution_count": 16,
     "metadata": {},
     "output_type": "execute_result"
    }
   ],
   "source": [
    "print(df.columns.tolist())\n",
    "df = df.drop([\"id\", \"categories\",\"location.country\",\"referralId\", \"hasPerk\",'location.labeledLatLngs', 'location.cc','location.formattedAddress' ], axis = 1)\n",
    "df = df.rename(columns = {\"name\":\"Residents\",\n",
    "                          \"location.lat\":\"latitude\", \n",
    "                          'location.lng':\"longitude\",\n",
    "                          'location.distance':\"distance\",\n",
    "                          'location.address':\"address\", \n",
    "                          \"location.city\":\"city\",\n",
    "                          'location.crossStreet':\"street name\", \n",
    "                         })\n",
    "new_distance = []\n",
    "df[\"distance\"] = df[\"distance\"].astype(str)\n",
    "df[\"distance\"] = df[\"distance\"].tolist()\n",
    "df"
   ]
  },
  {
   "cell_type": "code",
   "execution_count": 118,
   "metadata": {},
   "outputs": [],
   "source": [
    "x_xis = df['latitude'].tolist()\n",
    "y_xis = df['longitude'].tolist()"
   ]
  },
  {
   "cell_type": "code",
   "execution_count": 119,
   "metadata": {},
   "outputs": [
    {
     "data": {
      "text/plain": [
       "26"
      ]
     },
     "execution_count": 119,
     "metadata": {},
     "output_type": "execute_result"
    }
   ],
   "source": [
    "filename = 'address.py'\n",
    "\n",
    "f = open(filename, 'w')\n",
    "\n",
    "coords = x_xis, y_xis\n",
    "\n",
    "\n",
    "f.write('ad_latitude = {} '.format(x_xis) + \"\\n\")\n",
    "f.write('ad_longitude = {}'.format(y_xis))\n",
    "\n",
    "\n"
   ]
  },
  {
   "cell_type": "code",
   "execution_count": null,
   "metadata": {},
   "outputs": [],
   "source": []
  }
 ],
 "metadata": {
  "kernelspec": {
   "display_name": "Python 3",
   "language": "python",
   "name": "python3"
  },
  "language_info": {
   "codemirror_mode": {
    "name": "ipython",
    "version": 3
   },
   "file_extension": ".py",
   "mimetype": "text/x-python",
   "name": "python",
   "nbconvert_exporter": "python",
   "pygments_lexer": "ipython3",
   "version": "3.8.3"
  }
 },
 "nbformat": 4,
 "nbformat_minor": 4
}
