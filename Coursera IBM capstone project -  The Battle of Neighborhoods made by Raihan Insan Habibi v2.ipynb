{
 "cells": [
  {
   "cell_type": "markdown",
   "metadata": {},
   "source": [
    "# Coursera IBM capstone project -  The Battle of Neighborhoods"
   ]
  },
  {
   "cell_type": "markdown",
   "metadata": {},
   "source": [
    "<p> project title: </p>"
   ]
  },
  {
   "cell_type": "markdown",
   "metadata": {},
   "source": [
    "<h2>Finding a proper location for opening a new business in the fututre that is suitable during the ‘covid - 19’ pandemic in london, United Kingdom (U.K) using Data science and analytical tools</h2>"
   ]
  },
  {
   "cell_type": "markdown",
   "metadata": {},
   "source": [
    "<p> Author: Raihan Insan Habibi</p>"
   ]
  },
  {
   "cell_type": "markdown",
   "metadata": {},
   "source": [
    "<b>1. Introduction / business problems</b>"
   ]
  },
  {
   "cell_type": "markdown",
   "metadata": {},
   "source": [
    "In the middle of march, the UK was struck by a deadly virus called the coronavirus also known by its scientific name 'covid-19'. and the rate of the virus kept increasing dramatically till February 1, 2021, and till that day the rate of the corona virus started to decrease gradually. Right now, social distancing has changed various methods for many companies. With time, things are gently progressing back to normal, people who want to open up a business in the future will have to have to find a suitable location that will be effective for the industry business, even during the 'covid-19' pandemic. Finding a location that is habitable requires various factors that data scientists need to consider and process, as well as all of the access to data information around the neighbourhood. In this report, I will be describing a simple analysis of data from the whole city of london, United Kingdom (U.K) to find a suitable location to open up a new business."
   ]
  },
  {
   "cell_type": "markdown",
   "metadata": {},
   "source": [
    "<b>2. Data</b>"
   ]
  },
  {
   "cell_type": "markdown",
   "metadata": {},
   "source": [
    "(all data resources will be here)"
   ]
  },
  {
   "cell_type": "code",
   "execution_count": 104,
   "metadata": {},
   "outputs": [
    {
     "name": "stdout",
     "output_type": "stream",
     "text": [
      "Requirement already satisfied: bs4 in c:\\users\\mathl\\anaconda3\\lib\\site-packages (0.0.1)"
     ]
    },
    {
     "name": "stderr",
     "output_type": "stream",
     "text": [
      "WARNING: You are using pip version 20.3.3; however, version 21.0.1 is available.\n",
      "You should consider upgrading via the 'c:\\users\\mathl\\anaconda3\\python.exe -m pip install --upgrade pip' command.\n"
     ]
    },
    {
     "name": "stdout",
     "output_type": "stream",
     "text": [
      "\n",
      "Requirement already satisfied: beautifulsoup4 in c:\\users\\mathl\\anaconda3\\lib\\site-packages (from bs4) (4.9.1)\n",
      "Requirement already satisfied: soupsieve>1.2 in c:\\users\\mathl\\anaconda3\\lib\\site-packages (from beautifulsoup4->bs4) (2.0.1)\n"
     ]
    }
   ],
   "source": [
    "#!pip install geopy\n",
    "#!pip install folium\n",
    "#!pip install bs4"
   ]
  },
  {
   "cell_type": "code",
   "execution_count": 2,
   "metadata": {},
   "outputs": [
    {
     "name": "stdout",
     "output_type": "stream",
     "text": [
      "libaries imported\n"
     ]
    }
   ],
   "source": [
    "import numpy as np\n",
    "import pandas as pd\n",
    "import requests\n",
    "from geopy.geocoders import Nominatim\n",
    "import folium\n",
    "from pandas.io.json import json_normalize\n",
    "import bs4\n",
    "from urllib.request import urlopen as uReq\n",
    "from bs4 import BeautifulSoup as Soup\n",
    "print(\"libaries imported\")"
   ]
  },
  {
   "cell_type": "code",
   "execution_count": 6,
   "metadata": {},
   "outputs": [
    {
     "name": "stdout",
     "output_type": "stream",
     "text": [
      "(51.5073219, -0.1276474)\n"
     ]
    }
   ],
   "source": [
    "CLIENT_ID = 'PT4SWYOA3Q4IJPMPYFKE4MYTKG3YBFPBHPUB01C5MVC0BCHE' \n",
    "CLIENT_SECRET = 'ZYIMZWRM5PDVXZGFOJXKRZ2H423NPVFUWLBQXHDYMJSMDGEL' \n",
    "VERSION = '20180604'\n",
    "LIMIT = 30\n",
    "\n",
    "address = 'London, Greater London, United Kingdom'\n",
    "\n",
    "geolocator = Nominatim(user_agent=\"foursquare_agent\")\n",
    "location = geolocator.geocode(address)\n",
    "latitude = location.latitude\n",
    "longitude = location.longitude\n",
    "coords = (latitude, longitude)\n",
    "print(coords)\n",
    "search_query = 'apartment'\n",
    "radius = 2000\n",
    "LIMIT = 50"
   ]
  },
  {
   "cell_type": "code",
   "execution_count": 7,
   "metadata": {},
   "outputs": [
    {
     "data": {
      "text/plain": [
       "'https://api.foursquare.com/v2/venues/search?client_id=PT4SWYOA3Q4IJPMPYFKE4MYTKG3YBFPBHPUB01C5MVC0BCHE&client_secret=ZYIMZWRM5PDVXZGFOJXKRZ2H423NPVFUWLBQXHDYMJSMDGEL&ll=51.5073219,-0.1276474&v=20180604&query=apartment&radius=2000&limit=50'"
      ]
     },
     "execution_count": 7,
     "metadata": {},
     "output_type": "execute_result"
    }
   ],
   "source": [
    "url = 'https://api.foursquare.com/v2/venues/search?client_id={}&client_secret={}&ll={},{}&v={}&query={}&radius={}&limit={}'.format(CLIENT_ID, CLIENT_SECRET, latitude, longitude, VERSION, search_query, radius, LIMIT)\n",
    "results = requests.get(url).json()\n",
    "url"
   ]
  },
  {
   "cell_type": "code",
   "execution_count": 22,
   "metadata": {},
   "outputs": [
    {
     "name": "stderr",
     "output_type": "stream",
     "text": [
      "<ipython-input-22-8c85c09aef9d>:2: FutureWarning: pandas.io.json.json_normalize is deprecated, use pandas.json_normalize instead\n",
      "  df = json_normalize(venues)\n"
     ]
    },
    {
     "data": {
      "text/html": [
       "<div>\n",
       "<style scoped>\n",
       "    .dataframe tbody tr th:only-of-type {\n",
       "        vertical-align: middle;\n",
       "    }\n",
       "\n",
       "    .dataframe tbody tr th {\n",
       "        vertical-align: top;\n",
       "    }\n",
       "\n",
       "    .dataframe thead th {\n",
       "        text-align: right;\n",
       "    }\n",
       "</style>\n",
       "<table border=\"1\" class=\"dataframe\">\n",
       "  <thead>\n",
       "    <tr style=\"text-align: right;\">\n",
       "      <th></th>\n",
       "      <th>id</th>\n",
       "      <th>name</th>\n",
       "      <th>categories</th>\n",
       "      <th>referralId</th>\n",
       "      <th>hasPerk</th>\n",
       "      <th>location.address</th>\n",
       "      <th>location.lat</th>\n",
       "      <th>location.lng</th>\n",
       "      <th>location.labeledLatLngs</th>\n",
       "      <th>location.distance</th>\n",
       "      <th>location.cc</th>\n",
       "      <th>location.city</th>\n",
       "      <th>location.state</th>\n",
       "      <th>location.country</th>\n",
       "      <th>location.formattedAddress</th>\n",
       "      <th>location.postalCode</th>\n",
       "      <th>location.neighborhood</th>\n",
       "      <th>location.crossStreet</th>\n",
       "    </tr>\n",
       "  </thead>\n",
       "  <tbody>\n",
       "    <tr>\n",
       "      <th>0</th>\n",
       "      <td>50947166e4b08e0dbd9ca247</td>\n",
       "      <td>Jubilee Apartment</td>\n",
       "      <td>[{'id': '4d954b06a243a5684965b473', 'name': 'R...</td>\n",
       "      <td>v-1614554904</td>\n",
       "      <td>False</td>\n",
       "      <td>Whitcomb Street 31A</td>\n",
       "      <td>51.509514</td>\n",
       "      <td>-0.130453</td>\n",
       "      <td>[{'label': 'display', 'lat': 51.509514, 'lng':...</td>\n",
       "      <td>311</td>\n",
       "      <td>GB</td>\n",
       "      <td>London</td>\n",
       "      <td>Greater London</td>\n",
       "      <td>United Kingdom</td>\n",
       "      <td>[Whitcomb Street 31A, London, Greater London, ...</td>\n",
       "      <td>NaN</td>\n",
       "      <td>NaN</td>\n",
       "      <td>NaN</td>\n",
       "    </tr>\n",
       "    <tr>\n",
       "      <th>1</th>\n",
       "      <td>56c5e9f9cd10b1e9cd98e4a3</td>\n",
       "      <td>The Apartment</td>\n",
       "      <td>[{'id': '52e81612bcbc57f1066b7a35', 'name': 'C...</td>\n",
       "      <td>v-1614554904</td>\n",
       "      <td>False</td>\n",
       "      <td>Hopkins St, London</td>\n",
       "      <td>51.513149</td>\n",
       "      <td>-0.134861</td>\n",
       "      <td>[{'label': 'display', 'lat': 51.51314944595856...</td>\n",
       "      <td>818</td>\n",
       "      <td>GB</td>\n",
       "      <td>London</td>\n",
       "      <td>Greater London</td>\n",
       "      <td>United Kingdom</td>\n",
       "      <td>[Hopkins St, London, London, Greater London, W...</td>\n",
       "      <td>W1F 0HS</td>\n",
       "      <td>NaN</td>\n",
       "      <td>NaN</td>\n",
       "    </tr>\n",
       "    <tr>\n",
       "      <th>2</th>\n",
       "      <td>5113bd0ce4b04c9a25ee39a7</td>\n",
       "      <td>Apartment 58</td>\n",
       "      <td>[{'id': '4bf58dd8d48988d11a941735', 'name': 'O...</td>\n",
       "      <td>v-1614554904</td>\n",
       "      <td>False</td>\n",
       "      <td>101 New Oxford St</td>\n",
       "      <td>51.516415</td>\n",
       "      <td>-0.129210</td>\n",
       "      <td>[{'label': 'display', 'lat': 51.51641473053954...</td>\n",
       "      <td>1017</td>\n",
       "      <td>GB</td>\n",
       "      <td>London</td>\n",
       "      <td>Greater London</td>\n",
       "      <td>United Kingdom</td>\n",
       "      <td>[101 New Oxford St, London, Greater London, WC...</td>\n",
       "      <td>WC1A 1DB</td>\n",
       "      <td>NaN</td>\n",
       "      <td>NaN</td>\n",
       "    </tr>\n",
       "    <tr>\n",
       "      <th>3</th>\n",
       "      <td>4bec65c6976ac928f4f2600b</td>\n",
       "      <td>The Apartment</td>\n",
       "      <td>[{'id': '4bf58dd8d48988d11e941735', 'name': 'C...</td>\n",
       "      <td>v-1614554904</td>\n",
       "      <td>False</td>\n",
       "      <td>199-206 High Holborn</td>\n",
       "      <td>51.517115</td>\n",
       "      <td>-0.121987</td>\n",
       "      <td>[{'label': 'display', 'lat': 51.51711536990883...</td>\n",
       "      <td>1158</td>\n",
       "      <td>GB</td>\n",
       "      <td>London</td>\n",
       "      <td>Greater London</td>\n",
       "      <td>United Kingdom</td>\n",
       "      <td>[199-206 High Holborn, London, Greater London,...</td>\n",
       "      <td>WC2B 5EG</td>\n",
       "      <td>Bloomsbury</td>\n",
       "      <td>NaN</td>\n",
       "    </tr>\n",
       "    <tr>\n",
       "      <th>4</th>\n",
       "      <td>540f08bb498eb03105e62e3d</td>\n",
       "      <td>Thomas apartment</td>\n",
       "      <td>[{'id': '4d954b06a243a5684965b473', 'name': 'R...</td>\n",
       "      <td>v-1614554904</td>\n",
       "      <td>False</td>\n",
       "      <td>Coptict Street 5</td>\n",
       "      <td>51.517576</td>\n",
       "      <td>-0.126521</td>\n",
       "      <td>[{'label': 'display', 'lat': 51.517576, 'lng':...</td>\n",
       "      <td>1144</td>\n",
       "      <td>GB</td>\n",
       "      <td>NaN</td>\n",
       "      <td>NaN</td>\n",
       "      <td>United Kingdom</td>\n",
       "      <td>[Coptict Street 5, United Kingdom]</td>\n",
       "      <td>NaN</td>\n",
       "      <td>NaN</td>\n",
       "      <td>NaN</td>\n",
       "    </tr>\n",
       "  </tbody>\n",
       "</table>\n",
       "</div>"
      ],
      "text/plain": [
       "                         id               name  \\\n",
       "0  50947166e4b08e0dbd9ca247  Jubilee Apartment   \n",
       "1  56c5e9f9cd10b1e9cd98e4a3      The Apartment   \n",
       "2  5113bd0ce4b04c9a25ee39a7       Apartment 58   \n",
       "3  4bec65c6976ac928f4f2600b      The Apartment   \n",
       "4  540f08bb498eb03105e62e3d   Thomas apartment   \n",
       "\n",
       "                                          categories    referralId  hasPerk  \\\n",
       "0  [{'id': '4d954b06a243a5684965b473', 'name': 'R...  v-1614554904    False   \n",
       "1  [{'id': '52e81612bcbc57f1066b7a35', 'name': 'C...  v-1614554904    False   \n",
       "2  [{'id': '4bf58dd8d48988d11a941735', 'name': 'O...  v-1614554904    False   \n",
       "3  [{'id': '4bf58dd8d48988d11e941735', 'name': 'C...  v-1614554904    False   \n",
       "4  [{'id': '4d954b06a243a5684965b473', 'name': 'R...  v-1614554904    False   \n",
       "\n",
       "       location.address  location.lat  location.lng  \\\n",
       "0   Whitcomb Street 31A     51.509514     -0.130453   \n",
       "1    Hopkins St, London     51.513149     -0.134861   \n",
       "2     101 New Oxford St     51.516415     -0.129210   \n",
       "3  199-206 High Holborn     51.517115     -0.121987   \n",
       "4      Coptict Street 5     51.517576     -0.126521   \n",
       "\n",
       "                             location.labeledLatLngs  location.distance  \\\n",
       "0  [{'label': 'display', 'lat': 51.509514, 'lng':...                311   \n",
       "1  [{'label': 'display', 'lat': 51.51314944595856...                818   \n",
       "2  [{'label': 'display', 'lat': 51.51641473053954...               1017   \n",
       "3  [{'label': 'display', 'lat': 51.51711536990883...               1158   \n",
       "4  [{'label': 'display', 'lat': 51.517576, 'lng':...               1144   \n",
       "\n",
       "  location.cc location.city  location.state location.country  \\\n",
       "0          GB        London  Greater London   United Kingdom   \n",
       "1          GB        London  Greater London   United Kingdom   \n",
       "2          GB        London  Greater London   United Kingdom   \n",
       "3          GB        London  Greater London   United Kingdom   \n",
       "4          GB           NaN             NaN   United Kingdom   \n",
       "\n",
       "                           location.formattedAddress location.postalCode  \\\n",
       "0  [Whitcomb Street 31A, London, Greater London, ...                 NaN   \n",
       "1  [Hopkins St, London, London, Greater London, W...             W1F 0HS   \n",
       "2  [101 New Oxford St, London, Greater London, WC...            WC1A 1DB   \n",
       "3  [199-206 High Holborn, London, Greater London,...            WC2B 5EG   \n",
       "4                 [Coptict Street 5, United Kingdom]                 NaN   \n",
       "\n",
       "  location.neighborhood location.crossStreet  \n",
       "0                   NaN                  NaN  \n",
       "1                   NaN                  NaN  \n",
       "2                   NaN                  NaN  \n",
       "3            Bloomsbury                  NaN  \n",
       "4                   NaN                  NaN  "
      ]
     },
     "execution_count": 22,
     "metadata": {},
     "output_type": "execute_result"
    }
   ],
   "source": [
    "venues = results['response']['venues']\n",
    "df = json_normalize(venues)\n",
    "df.head()"
   ]
  },
  {
   "cell_type": "code",
   "execution_count": 23,
   "metadata": {},
   "outputs": [
    {
     "name": "stdout",
     "output_type": "stream",
     "text": [
      "['id', 'name', 'categories', 'referralId', 'hasPerk', 'location.address', 'location.lat', 'location.lng', 'location.labeledLatLngs', 'location.distance', 'location.cc', 'location.city', 'location.state', 'location.country', 'location.formattedAddress', 'location.postalCode', 'location.neighborhood', 'location.crossStreet']\n"
     ]
    },
    {
     "data": {
      "text/html": [
       "<div>\n",
       "<style scoped>\n",
       "    .dataframe tbody tr th:only-of-type {\n",
       "        vertical-align: middle;\n",
       "    }\n",
       "\n",
       "    .dataframe tbody tr th {\n",
       "        vertical-align: top;\n",
       "    }\n",
       "\n",
       "    .dataframe thead th {\n",
       "        text-align: right;\n",
       "    }\n",
       "</style>\n",
       "<table border=\"1\" class=\"dataframe\">\n",
       "  <thead>\n",
       "    <tr style=\"text-align: right;\">\n",
       "      <th></th>\n",
       "      <th>Residents</th>\n",
       "      <th>address</th>\n",
       "      <th>latitude</th>\n",
       "      <th>longitude</th>\n",
       "      <th>distance</th>\n",
       "      <th>city</th>\n",
       "      <th>location.state</th>\n",
       "      <th>postcode</th>\n",
       "      <th>neighborhood</th>\n",
       "      <th>street name</th>\n",
       "    </tr>\n",
       "  </thead>\n",
       "  <tbody>\n",
       "    <tr>\n",
       "      <th>0</th>\n",
       "      <td>Jubilee Apartment</td>\n",
       "      <td>Whitcomb Street 31A</td>\n",
       "      <td>51.509514</td>\n",
       "      <td>-0.130453</td>\n",
       "      <td>311</td>\n",
       "      <td>London</td>\n",
       "      <td>Greater London</td>\n",
       "      <td>NaN</td>\n",
       "      <td>NaN</td>\n",
       "      <td>NaN</td>\n",
       "    </tr>\n",
       "    <tr>\n",
       "      <th>1</th>\n",
       "      <td>The Apartment</td>\n",
       "      <td>Hopkins St, London</td>\n",
       "      <td>51.513149</td>\n",
       "      <td>-0.134861</td>\n",
       "      <td>818</td>\n",
       "      <td>London</td>\n",
       "      <td>Greater London</td>\n",
       "      <td>W1F 0HS</td>\n",
       "      <td>NaN</td>\n",
       "      <td>NaN</td>\n",
       "    </tr>\n",
       "    <tr>\n",
       "      <th>2</th>\n",
       "      <td>Apartment 58</td>\n",
       "      <td>101 New Oxford St</td>\n",
       "      <td>51.516415</td>\n",
       "      <td>-0.129210</td>\n",
       "      <td>1017</td>\n",
       "      <td>London</td>\n",
       "      <td>Greater London</td>\n",
       "      <td>WC1A 1DB</td>\n",
       "      <td>NaN</td>\n",
       "      <td>NaN</td>\n",
       "    </tr>\n",
       "    <tr>\n",
       "      <th>3</th>\n",
       "      <td>The Apartment</td>\n",
       "      <td>199-206 High Holborn</td>\n",
       "      <td>51.517115</td>\n",
       "      <td>-0.121987</td>\n",
       "      <td>1158</td>\n",
       "      <td>London</td>\n",
       "      <td>Greater London</td>\n",
       "      <td>WC2B 5EG</td>\n",
       "      <td>Bloomsbury</td>\n",
       "      <td>NaN</td>\n",
       "    </tr>\n",
       "    <tr>\n",
       "      <th>4</th>\n",
       "      <td>Thomas apartment</td>\n",
       "      <td>Coptict Street 5</td>\n",
       "      <td>51.517576</td>\n",
       "      <td>-0.126521</td>\n",
       "      <td>1144</td>\n",
       "      <td>NaN</td>\n",
       "      <td>NaN</td>\n",
       "      <td>NaN</td>\n",
       "      <td>NaN</td>\n",
       "      <td>NaN</td>\n",
       "    </tr>\n",
       "  </tbody>\n",
       "</table>\n",
       "</div>"
      ],
      "text/plain": [
       "           Residents               address   latitude  longitude distance  \\\n",
       "0  Jubilee Apartment   Whitcomb Street 31A  51.509514  -0.130453      311   \n",
       "1      The Apartment    Hopkins St, London  51.513149  -0.134861      818   \n",
       "2       Apartment 58     101 New Oxford St  51.516415  -0.129210     1017   \n",
       "3      The Apartment  199-206 High Holborn  51.517115  -0.121987     1158   \n",
       "4   Thomas apartment      Coptict Street 5  51.517576  -0.126521     1144   \n",
       "\n",
       "     city  location.state  postcode neighborhood street name  \n",
       "0  London  Greater London       NaN          NaN         NaN  \n",
       "1  London  Greater London   W1F 0HS          NaN         NaN  \n",
       "2  London  Greater London  WC1A 1DB          NaN         NaN  \n",
       "3  London  Greater London  WC2B 5EG   Bloomsbury         NaN  \n",
       "4     NaN             NaN       NaN          NaN         NaN  "
      ]
     },
     "execution_count": 23,
     "metadata": {},
     "output_type": "execute_result"
    }
   ],
   "source": [
    "print(df.columns.tolist())\n",
    "df = df.drop([\"id\", \"categories\",\"location.country\",\"referralId\", \"hasPerk\",'location.labeledLatLngs', 'location.cc','location.formattedAddress' ], axis = 1)\n",
    "df = df.rename(columns = {\"name\":\"Residents\",\n",
    "                          \"location.lat\":\"latitude\", \n",
    "                          'location.lng':\"longitude\",\n",
    "                          'location.distance':\"distance\",\n",
    "                          'location.address':\"address\", \n",
    "                          \"location.city\":\"city\",\n",
    "                          'location.crossStreet':\"street name\",\n",
    "                           'location.postalCode':\"postcode\",\n",
    "                          'location.neighborhood':\"neighborhood\"\n",
    "                         })\n",
    "new_distance = []\n",
    "df[\"distance\"] = df[\"distance\"].astype(str)\n",
    "df[\"distance\"] = df[\"distance\"].tolist()\n",
    "df.head()"
   ]
  },
  {
   "cell_type": "code",
   "execution_count": 11,
   "metadata": {},
   "outputs": [],
   "source": [
    "my_url = \"https://www.google.com/maps/search/saudi+arabia,+riyadh,+residents/@24.7984497,46.6521377,10z\"\n",
    "uClient = uReq(my_url)\n",
    "page_html = uClient.read()\n",
    "uClient.close()\n",
    "page_soup = Soup(page_html, \"html.parser\")"
   ]
  },
  {
   "cell_type": "code",
   "execution_count": 29,
   "metadata": {},
   "outputs": [],
   "source": [
    "london_map = folium.Map(coords)"
   ]
  },
  {
   "cell_type": "code",
   "execution_count": 30,
   "metadata": {},
   "outputs": [
    {
     "data": {
      "text/html": [
       "<div style=\"width:100%;\"><div style=\"position:relative;width:100%;height:0;padding-bottom:60%;\"><span style=\"color:#565656\">Make this Notebook Trusted to load map: File -> Trust Notebook</span><iframe src=\"about:blank\" style=\"position:absolute;width:100%;height:100%;left:0;top:0;border:none !important;\" data-html=%3C%21DOCTYPE%20html%3E%0A%3Chead%3E%20%20%20%20%0A%20%20%20%20%3Cmeta%20http-equiv%3D%22content-type%22%20content%3D%22text/html%3B%20charset%3DUTF-8%22%20/%3E%0A%20%20%20%20%0A%20%20%20%20%20%20%20%20%3Cscript%3E%0A%20%20%20%20%20%20%20%20%20%20%20%20L_NO_TOUCH%20%3D%20false%3B%0A%20%20%20%20%20%20%20%20%20%20%20%20L_DISABLE_3D%20%3D%20false%3B%0A%20%20%20%20%20%20%20%20%3C/script%3E%0A%20%20%20%20%0A%20%20%20%20%3Cstyle%3Ehtml%2C%20body%20%7Bwidth%3A%20100%25%3Bheight%3A%20100%25%3Bmargin%3A%200%3Bpadding%3A%200%3B%7D%3C/style%3E%0A%20%20%20%20%3Cstyle%3E%23map%20%7Bposition%3Aabsolute%3Btop%3A0%3Bbottom%3A0%3Bright%3A0%3Bleft%3A0%3B%7D%3C/style%3E%0A%20%20%20%20%3Cscript%20src%3D%22https%3A//cdn.jsdelivr.net/npm/leaflet%401.6.0/dist/leaflet.js%22%3E%3C/script%3E%0A%20%20%20%20%3Cscript%20src%3D%22https%3A//code.jquery.com/jquery-1.12.4.min.js%22%3E%3C/script%3E%0A%20%20%20%20%3Cscript%20src%3D%22https%3A//maxcdn.bootstrapcdn.com/bootstrap/3.2.0/js/bootstrap.min.js%22%3E%3C/script%3E%0A%20%20%20%20%3Cscript%20src%3D%22https%3A//cdnjs.cloudflare.com/ajax/libs/Leaflet.awesome-markers/2.0.2/leaflet.awesome-markers.js%22%3E%3C/script%3E%0A%20%20%20%20%3Clink%20rel%3D%22stylesheet%22%20href%3D%22https%3A//cdn.jsdelivr.net/npm/leaflet%401.6.0/dist/leaflet.css%22/%3E%0A%20%20%20%20%3Clink%20rel%3D%22stylesheet%22%20href%3D%22https%3A//maxcdn.bootstrapcdn.com/bootstrap/3.2.0/css/bootstrap.min.css%22/%3E%0A%20%20%20%20%3Clink%20rel%3D%22stylesheet%22%20href%3D%22https%3A//maxcdn.bootstrapcdn.com/bootstrap/3.2.0/css/bootstrap-theme.min.css%22/%3E%0A%20%20%20%20%3Clink%20rel%3D%22stylesheet%22%20href%3D%22https%3A//maxcdn.bootstrapcdn.com/font-awesome/4.6.3/css/font-awesome.min.css%22/%3E%0A%20%20%20%20%3Clink%20rel%3D%22stylesheet%22%20href%3D%22https%3A//cdnjs.cloudflare.com/ajax/libs/Leaflet.awesome-markers/2.0.2/leaflet.awesome-markers.css%22/%3E%0A%20%20%20%20%3Clink%20rel%3D%22stylesheet%22%20href%3D%22https%3A//cdn.jsdelivr.net/gh/python-visualization/folium/folium/templates/leaflet.awesome.rotate.min.css%22/%3E%0A%20%20%20%20%0A%20%20%20%20%20%20%20%20%20%20%20%20%3Cmeta%20name%3D%22viewport%22%20content%3D%22width%3Ddevice-width%2C%0A%20%20%20%20%20%20%20%20%20%20%20%20%20%20%20%20initial-scale%3D1.0%2C%20maximum-scale%3D1.0%2C%20user-scalable%3Dno%22%20/%3E%0A%20%20%20%20%20%20%20%20%20%20%20%20%3Cstyle%3E%0A%20%20%20%20%20%20%20%20%20%20%20%20%20%20%20%20%23map_ca29f93bdf30456b812bc45aa7053c9a%20%7B%0A%20%20%20%20%20%20%20%20%20%20%20%20%20%20%20%20%20%20%20%20position%3A%20relative%3B%0A%20%20%20%20%20%20%20%20%20%20%20%20%20%20%20%20%20%20%20%20width%3A%20100.0%25%3B%0A%20%20%20%20%20%20%20%20%20%20%20%20%20%20%20%20%20%20%20%20height%3A%20100.0%25%3B%0A%20%20%20%20%20%20%20%20%20%20%20%20%20%20%20%20%20%20%20%20left%3A%200.0%25%3B%0A%20%20%20%20%20%20%20%20%20%20%20%20%20%20%20%20%20%20%20%20top%3A%200.0%25%3B%0A%20%20%20%20%20%20%20%20%20%20%20%20%20%20%20%20%7D%0A%20%20%20%20%20%20%20%20%20%20%20%20%3C/style%3E%0A%20%20%20%20%20%20%20%20%0A%3C/head%3E%0A%3Cbody%3E%20%20%20%20%0A%20%20%20%20%0A%20%20%20%20%20%20%20%20%20%20%20%20%3Cdiv%20class%3D%22folium-map%22%20id%3D%22map_ca29f93bdf30456b812bc45aa7053c9a%22%20%3E%3C/div%3E%0A%20%20%20%20%20%20%20%20%0A%3C/body%3E%0A%3Cscript%3E%20%20%20%20%0A%20%20%20%20%0A%20%20%20%20%20%20%20%20%20%20%20%20var%20map_ca29f93bdf30456b812bc45aa7053c9a%20%3D%20L.map%28%0A%20%20%20%20%20%20%20%20%20%20%20%20%20%20%20%20%22map_ca29f93bdf30456b812bc45aa7053c9a%22%2C%0A%20%20%20%20%20%20%20%20%20%20%20%20%20%20%20%20%7B%0A%20%20%20%20%20%20%20%20%20%20%20%20%20%20%20%20%20%20%20%20center%3A%20%5B51.5073219%2C%20-0.1276474%5D%2C%0A%20%20%20%20%20%20%20%20%20%20%20%20%20%20%20%20%20%20%20%20crs%3A%20L.CRS.EPSG3857%2C%0A%20%20%20%20%20%20%20%20%20%20%20%20%20%20%20%20%20%20%20%20zoom%3A%2010%2C%0A%20%20%20%20%20%20%20%20%20%20%20%20%20%20%20%20%20%20%20%20zoomControl%3A%20true%2C%0A%20%20%20%20%20%20%20%20%20%20%20%20%20%20%20%20%20%20%20%20preferCanvas%3A%20false%2C%0A%20%20%20%20%20%20%20%20%20%20%20%20%20%20%20%20%7D%0A%20%20%20%20%20%20%20%20%20%20%20%20%29%3B%0A%0A%20%20%20%20%20%20%20%20%20%20%20%20%0A%0A%20%20%20%20%20%20%20%20%0A%20%20%20%20%0A%20%20%20%20%20%20%20%20%20%20%20%20var%20tile_layer_6780703bae1541b998fce96fc6410bb7%20%3D%20L.tileLayer%28%0A%20%20%20%20%20%20%20%20%20%20%20%20%20%20%20%20%22https%3A//%7Bs%7D.tile.openstreetmap.org/%7Bz%7D/%7Bx%7D/%7By%7D.png%22%2C%0A%20%20%20%20%20%20%20%20%20%20%20%20%20%20%20%20%7B%22attribution%22%3A%20%22Data%20by%20%5Cu0026copy%3B%20%5Cu003ca%20href%3D%5C%22http%3A//openstreetmap.org%5C%22%5Cu003eOpenStreetMap%5Cu003c/a%5Cu003e%2C%20under%20%5Cu003ca%20href%3D%5C%22http%3A//www.openstreetmap.org/copyright%5C%22%5Cu003eODbL%5Cu003c/a%5Cu003e.%22%2C%20%22detectRetina%22%3A%20false%2C%20%22maxNativeZoom%22%3A%2018%2C%20%22maxZoom%22%3A%2018%2C%20%22minZoom%22%3A%200%2C%20%22noWrap%22%3A%20false%2C%20%22opacity%22%3A%201%2C%20%22subdomains%22%3A%20%22abc%22%2C%20%22tms%22%3A%20false%7D%0A%20%20%20%20%20%20%20%20%20%20%20%20%29.addTo%28map_ca29f93bdf30456b812bc45aa7053c9a%29%3B%0A%20%20%20%20%20%20%20%20%0A%3C/script%3E onload=\"this.contentDocument.open();this.contentDocument.write(    decodeURIComponent(this.getAttribute('data-html')));this.contentDocument.close();\" allowfullscreen webkitallowfullscreen mozallowfullscreen></iframe></div></div>"
      ],
      "text/plain": [
       "<folium.folium.Map at 0x1231cec68b0>"
      ]
     },
     "execution_count": 30,
     "metadata": {},
     "output_type": "execute_result"
    }
   ],
   "source": [
    "london_map"
   ]
  },
  {
   "cell_type": "code",
   "execution_count": null,
   "metadata": {},
   "outputs": [],
   "source": []
  }
 ],
 "metadata": {
  "kernelspec": {
   "display_name": "Python 3",
   "language": "python",
   "name": "python3"
  },
  "language_info": {
   "codemirror_mode": {
    "name": "ipython",
    "version": 3
   },
   "file_extension": ".py",
   "mimetype": "text/x-python",
   "name": "python",
   "nbconvert_exporter": "python",
   "pygments_lexer": "ipython3",
   "version": "3.8.3"
  }
 },
 "nbformat": 4,
 "nbformat_minor": 4
}
