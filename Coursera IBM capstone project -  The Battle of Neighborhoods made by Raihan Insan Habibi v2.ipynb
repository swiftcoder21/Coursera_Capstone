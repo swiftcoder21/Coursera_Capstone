{
 "cells": [
  {
   "cell_type": "markdown",
   "metadata": {},
   "source": [
    "# Coursera IBM capstone project -  The Battle of Neighborhoods"
   ]
  },
  {
   "cell_type": "markdown",
   "metadata": {},
   "source": [
    "<p> project title: </p>"
   ]
  },
  {
   "cell_type": "markdown",
   "metadata": {},
   "source": [
    "<h2>Finding a proper location for opening a new business in the fututre that is suitable during the ‘covid - 19’ pandemic in london, United Kingdom (U.K) using Data science and analytical tools</h2>"
   ]
  },
  {
   "cell_type": "markdown",
   "metadata": {},
   "source": [
    "<p> Author: Raihan Insan Habibi</p>"
   ]
  },
  {
   "cell_type": "markdown",
   "metadata": {},
   "source": [
    "<b>1. Introduction / business problems</b>"
   ]
  },
  {
   "cell_type": "markdown",
   "metadata": {},
   "source": [
    "In the middle of march, the UK was struck by a deadly virus called the coronavirus also known by its scientific name 'covid-19'. and the rate of the virus kept increasing dramatically till February 1, 2021, and till that day the rate of the corona virus started to decrease gradually. Right now, social distancing has changed various methods for many companies. With time, things are gently progressing back to normal, people who want to open up a business in the future will have to have to find a suitable location that will be effective for the industry business, even during the 'covid-19' pandemic. Finding a location that is habitable requires various factors that data scientists need to consider and process, as well as all of the access to data information around the neighbourhood. In this report, I will be describing a simple analysis of data from the whole city of london, United Kingdom (U.K) to find a suitable location to open up a new business."
   ]
  },
  {
   "cell_type": "markdown",
   "metadata": {},
   "source": [
    "<b>2. Data</b>"
   ]
  },
  {
   "cell_type": "markdown",
   "metadata": {},
   "source": [
    "(all data resources will be here)"
   ]
  },
  {
   "cell_type": "code",
   "execution_count": 104,
   "metadata": {},
   "outputs": [
    {
     "name": "stdout",
     "output_type": "stream",
     "text": [
      "Requirement already satisfied: bs4 in c:\\users\\mathl\\anaconda3\\lib\\site-packages (0.0.1)"
     ]
    },
    {
     "name": "stderr",
     "output_type": "stream",
     "text": [
      "WARNING: You are using pip version 20.3.3; however, version 21.0.1 is available.\n",
      "You should consider upgrading via the 'c:\\users\\mathl\\anaconda3\\python.exe -m pip install --upgrade pip' command.\n"
     ]
    },
    {
     "name": "stdout",
     "output_type": "stream",
     "text": [
      "\n",
      "Requirement already satisfied: beautifulsoup4 in c:\\users\\mathl\\anaconda3\\lib\\site-packages (from bs4) (4.9.1)\n",
      "Requirement already satisfied: soupsieve>1.2 in c:\\users\\mathl\\anaconda3\\lib\\site-packages (from beautifulsoup4->bs4) (2.0.1)\n"
     ]
    }
   ],
   "source": [
    "#!pip install geopy\n",
    "#!pip install folium\n",
    "#!pip install bs4"
   ]
  },
  {
   "cell_type": "code",
   "execution_count": 1,
   "metadata": {},
   "outputs": [
    {
     "name": "stdout",
     "output_type": "stream",
     "text": [
      "libaries imported\n"
     ]
    }
   ],
   "source": [
    "import numpy as np\n",
    "import pandas as pd\n",
    "import requests\n",
    "from geopy.geocoders import Nominatim\n",
    "import folium\n",
    "from pandas.io.json import json_normalize\n",
    "import bs4\n",
    "from urllib.request import urlopen as uReq\n",
    "from bs4 import BeautifulSoup as soup\n",
    "print(\"libaries imported\")"
   ]
  },
  {
   "cell_type": "code",
   "execution_count": 2,
   "metadata": {},
   "outputs": [
    {
     "name": "stdout",
     "output_type": "stream",
     "text": [
      "(51.5073219, -0.1276474)\n"
     ]
    }
   ],
   "source": [
    "CLIENT_ID = 'PT4SWYOA3Q4IJPMPYFKE4MYTKG3YBFPBHPUB01C5MVC0BCHE' \n",
    "CLIENT_SECRET = 'ZYIMZWRM5PDVXZGFOJXKRZ2H423NPVFUWLBQXHDYMJSMDGEL' \n",
    "VERSION = '20180604'\n",
    "LIMIT = 30\n",
    "\n",
    "address = 'London, Greater London, United Kingdom'\n",
    "\n",
    "geolocator = Nominatim(user_agent=\"foursquare_agent\")\n",
    "location = geolocator.geocode(address)\n",
    "latitude = location.latitude\n",
    "longitude = location.longitude\n",
    "coords = (latitude, longitude)\n",
    "print(coords)\n",
    "search_query = 'apartment'\n",
    "radius = 2000\n",
    "LIMIT = 50"
   ]
  },
  {
   "cell_type": "code",
   "execution_count": 3,
   "metadata": {},
   "outputs": [
    {
     "data": {
      "text/plain": [
       "'https://api.foursquare.com/v2/venues/search?client_id=PT4SWYOA3Q4IJPMPYFKE4MYTKG3YBFPBHPUB01C5MVC0BCHE&client_secret=ZYIMZWRM5PDVXZGFOJXKRZ2H423NPVFUWLBQXHDYMJSMDGEL&ll=51.5073219,-0.1276474&v=20180604&query=apartment&radius=2000&limit=50'"
      ]
     },
     "execution_count": 3,
     "metadata": {},
     "output_type": "execute_result"
    }
   ],
   "source": [
    "url = 'https://api.foursquare.com/v2/venues/search?client_id={}&client_secret={}&ll={},{}&v={}&query={}&radius={}&limit={}'.format(CLIENT_ID, CLIENT_SECRET, latitude, longitude, VERSION, search_query, radius, LIMIT)\n",
    "results = requests.get(url).json()\n",
    "url"
   ]
  },
  {
   "cell_type": "code",
   "execution_count": 4,
   "metadata": {},
   "outputs": [
    {
     "name": "stderr",
     "output_type": "stream",
     "text": [
      "C:\\Users\\raihan\\AppData\\Roaming\\Python\\Python37\\site-packages\\ipykernel_launcher.py:2: FutureWarning: pandas.io.json.json_normalize is deprecated, use pandas.json_normalize instead\n",
      "  \n"
     ]
    }
   ],
   "source": [
    "venues = results['response']['venues']\n",
    "df = json_normalize(venues)"
   ]
  },
  {
   "cell_type": "code",
   "execution_count": 5,
   "metadata": {},
   "outputs": [
    {
     "data": {
      "text/html": [
       "<div>\n",
       "<style scoped>\n",
       "    .dataframe tbody tr th:only-of-type {\n",
       "        vertical-align: middle;\n",
       "    }\n",
       "\n",
       "    .dataframe tbody tr th {\n",
       "        vertical-align: top;\n",
       "    }\n",
       "\n",
       "    .dataframe thead th {\n",
       "        text-align: right;\n",
       "    }\n",
       "</style>\n",
       "<table border=\"1\" class=\"dataframe\">\n",
       "  <thead>\n",
       "    <tr style=\"text-align: right;\">\n",
       "      <th></th>\n",
       "      <th>Residents</th>\n",
       "      <th>address</th>\n",
       "      <th>latitude</th>\n",
       "      <th>longitude</th>\n",
       "      <th>distance</th>\n",
       "      <th>city</th>\n",
       "      <th>state</th>\n",
       "      <th>postcode</th>\n",
       "      <th>neighborhood</th>\n",
       "      <th>street name</th>\n",
       "      <th>venuePage.id</th>\n",
       "    </tr>\n",
       "  </thead>\n",
       "  <tbody>\n",
       "    <tr>\n",
       "      <th>0</th>\n",
       "      <td>Jubilee Apartment</td>\n",
       "      <td>Whitcomb Street 31A</td>\n",
       "      <td>51.509514</td>\n",
       "      <td>-0.130453</td>\n",
       "      <td>311</td>\n",
       "      <td>London</td>\n",
       "      <td>Greater London</td>\n",
       "      <td>NaN</td>\n",
       "      <td>NaN</td>\n",
       "      <td>NaN</td>\n",
       "      <td>NaN</td>\n",
       "    </tr>\n",
       "    <tr>\n",
       "      <th>1</th>\n",
       "      <td>The Apartment</td>\n",
       "      <td>Hopkins St, London</td>\n",
       "      <td>51.513149</td>\n",
       "      <td>-0.134861</td>\n",
       "      <td>818</td>\n",
       "      <td>London</td>\n",
       "      <td>Greater London</td>\n",
       "      <td>W1F 0HS</td>\n",
       "      <td>NaN</td>\n",
       "      <td>NaN</td>\n",
       "      <td>NaN</td>\n",
       "    </tr>\n",
       "    <tr>\n",
       "      <th>2</th>\n",
       "      <td>The Apartment</td>\n",
       "      <td>199-206 High Holborn</td>\n",
       "      <td>51.517115</td>\n",
       "      <td>-0.121987</td>\n",
       "      <td>1158</td>\n",
       "      <td>London</td>\n",
       "      <td>Greater London</td>\n",
       "      <td>WC2B 5EG</td>\n",
       "      <td>Bloomsbury</td>\n",
       "      <td>NaN</td>\n",
       "      <td>NaN</td>\n",
       "    </tr>\n",
       "    <tr>\n",
       "      <th>3</th>\n",
       "      <td>Apartment 58</td>\n",
       "      <td>101 New Oxford St</td>\n",
       "      <td>51.516415</td>\n",
       "      <td>-0.129210</td>\n",
       "      <td>1017</td>\n",
       "      <td>London</td>\n",
       "      <td>Greater London</td>\n",
       "      <td>WC1A 1DB</td>\n",
       "      <td>NaN</td>\n",
       "      <td>NaN</td>\n",
       "      <td>NaN</td>\n",
       "    </tr>\n",
       "    <tr>\n",
       "      <th>4</th>\n",
       "      <td>Thomas apartment</td>\n",
       "      <td>Coptict Street 5</td>\n",
       "      <td>51.517576</td>\n",
       "      <td>-0.126521</td>\n",
       "      <td>1144</td>\n",
       "      <td>NaN</td>\n",
       "      <td>NaN</td>\n",
       "      <td>NaN</td>\n",
       "      <td>NaN</td>\n",
       "      <td>NaN</td>\n",
       "      <td>NaN</td>\n",
       "    </tr>\n",
       "  </tbody>\n",
       "</table>\n",
       "</div>"
      ],
      "text/plain": [
       "           Residents               address   latitude  longitude distance  \\\n",
       "0  Jubilee Apartment   Whitcomb Street 31A  51.509514  -0.130453      311   \n",
       "1      The Apartment    Hopkins St, London  51.513149  -0.134861      818   \n",
       "2      The Apartment  199-206 High Holborn  51.517115  -0.121987     1158   \n",
       "3       Apartment 58     101 New Oxford St  51.516415  -0.129210     1017   \n",
       "4   Thomas apartment      Coptict Street 5  51.517576  -0.126521     1144   \n",
       "\n",
       "     city           state  postcode neighborhood street name venuePage.id  \n",
       "0  London  Greater London       NaN          NaN         NaN          NaN  \n",
       "1  London  Greater London   W1F 0HS          NaN         NaN          NaN  \n",
       "2  London  Greater London  WC2B 5EG   Bloomsbury         NaN          NaN  \n",
       "3  London  Greater London  WC1A 1DB          NaN         NaN          NaN  \n",
       "4     NaN             NaN       NaN          NaN         NaN          NaN  "
      ]
     },
     "execution_count": 5,
     "metadata": {},
     "output_type": "execute_result"
    }
   ],
   "source": [
    "#cleaning the data\n",
    "df = df.drop([\"id\", \"categories\",\"location.country\",\"referralId\", \"hasPerk\",'location.labeledLatLngs', 'location.cc','location.formattedAddress' ], axis = 1)\n",
    "df = df.rename(columns = {\"name\":\"Residents\",\n",
    "                          \"location.lat\":\"latitude\", \n",
    "                          'location.lng':\"longitude\",\n",
    "                          'location.distance':\"distance\",\n",
    "                          'location.address':\"address\", \n",
    "                          \"location.city\":\"city\",\n",
    "                          'location.crossStreet':\"street name\",\n",
    "                           'location.postalCode':\"postcode\",\n",
    "                          'location.neighborhood':\"neighborhood\",\n",
    "                           'location.state':\"state\"\n",
    "                         })\n",
    "new_distance = []\n",
    "df[\"distance\"] = df[\"distance\"].astype(str)\n",
    "df[\"distance\"] = df[\"distance\"].tolist()\n",
    "df.head()"
   ]
  },
  {
   "cell_type": "code",
   "execution_count": 6,
   "metadata": {},
   "outputs": [],
   "source": [
    "london_map = folium.Map(coords, zoom_start = 12)\n",
    "lat_list = df[\"latitude\"].tolist()\n",
    "lng_list = df[\"longitude\"].tolist()\n",
    "for x in range(len(lat_list)):\n",
    "    folium.Marker([lat_list[x], lng_list[x]]).add_to(london_map)"
   ]
  },
  {
   "cell_type": "code",
   "execution_count": 7,
   "metadata": {
    "scrolled": true
   },
   "outputs": [
    {
     "data": {
      "text/html": [
       "<div style=\"width:100%;\"><div style=\"position:relative;width:100%;height:0;padding-bottom:60%;\"><span style=\"color:#565656\">Make this Notebook Trusted to load map: File -> Trust Notebook</span><iframe src=\"about:blank\" style=\"position:absolute;width:100%;height:100%;left:0;top:0;border:none !important;\" data-html=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 onload=\"this.contentDocument.open();this.contentDocument.write(atob(this.getAttribute('data-html')));this.contentDocument.close();\" allowfullscreen webkitallowfullscreen mozallowfullscreen></iframe></div></div>"
      ],
      "text/plain": [
       "<folium.folium.Map at 0xfaf8b08>"
      ]
     },
     "execution_count": 7,
     "metadata": {},
     "output_type": "execute_result"
    }
   ],
   "source": [
    "london_map"
   ]
  },
  {
   "cell_type": "markdown",
   "metadata": {},
   "source": [
    "In Here im getting all the location for all residentail area because a good business and rate of virus depends on the population of people in london "
   ]
  },
  {
   "cell_type": "code",
   "execution_count": 30,
   "metadata": {},
   "outputs": [],
   "source": [
    "columns = []\n",
    "list_inside = []\n",
    "my_url = \"https://en.wikipedia.org/wiki/List_of_areas_of_London\"\n",
    "uClient = uReq(my_url)\n",
    "page_html = uClient.read()\n",
    "uClient.close()\n",
    "page_soup = soup(page_html, \"html.parser\")\n",
    "big_container = page_soup.findAll(\"div\", {\"id\":\"mw-content-text\"}) \n",
    "table_container = big_container[0].findAll(\"table\")  \n",
    "row_table = table_container[0].findAll(\"thead\")\n",
    "each_row = row_table[0].findAll(\"th\")\n",
    "dataframe = {}\n",
    "\n",
    "\n"
   ]
  },
  {
   "cell_type": "code",
   "execution_count": 31,
   "metadata": {},
   "outputs": [],
   "source": [
    "for x in each_row:\n",
    "    columns.append(x.text.rstrip(\"\\n\"))\n",
    "for row_container in row_table:\n",
    "    row_list = row_container.findAll(\"td\")\n",
    "    for x in row_list:\n",
    "        list_inside.append(x.text.rstrip(\"\\n\"))\n",
    "        \n",
    "\n",
    "    "
   ]
  },
  {
   "cell_type": "code",
   "execution_count": 32,
   "metadata": {},
   "outputs": [
    {
     "data": {
      "text/plain": [
       "[]"
      ]
     },
     "execution_count": 32,
     "metadata": {},
     "output_type": "execute_result"
    }
   ],
   "source": [
    "each_row\n"
   ]
  },
  {
   "cell_type": "code",
   "execution_count": 9,
   "metadata": {},
   "outputs": [
    {
     "ename": "ZeroDivisionError",
     "evalue": "integer division or modulo by zero",
     "output_type": "error",
     "traceback": [
      "\u001b[1;31m---------------------------------------------------------------------------\u001b[0m",
      "\u001b[1;31mZeroDivisionError\u001b[0m                         Traceback (most recent call last)",
      "\u001b[1;32m<ipython-input-9-ca425aaee52a>\u001b[0m in \u001b[0;36m<module>\u001b[1;34m\u001b[0m\n\u001b[0;32m     45\u001b[0m     \u001b[0mprint\u001b[0m\u001b[1;33m(\u001b[0m\u001b[0mdataframe_final\u001b[0m\u001b[1;33m)\u001b[0m\u001b[1;33m\u001b[0m\u001b[1;33m\u001b[0m\u001b[0m\n\u001b[0;32m     46\u001b[0m \u001b[1;33m\u001b[0m\u001b[0m\n\u001b[1;32m---> 47\u001b[1;33m \u001b[0mtable_maker\u001b[0m\u001b[1;33m(\u001b[0m\u001b[0mcolumns\u001b[0m\u001b[1;33m,\u001b[0m \u001b[0mlist_inside\u001b[0m\u001b[1;33m)\u001b[0m\u001b[1;33m\u001b[0m\u001b[1;33m\u001b[0m\u001b[0m\n\u001b[0m",
      "\u001b[1;32m<ipython-input-9-ca425aaee52a>\u001b[0m in \u001b[0;36mtable_maker\u001b[1;34m(headers, columns_list)\u001b[0m\n\u001b[0;32m     10\u001b[0m     \u001b[0mdf_list\u001b[0m \u001b[1;33m=\u001b[0m \u001b[1;33m[\u001b[0m\u001b[1;33m]\u001b[0m\u001b[1;33m\u001b[0m\u001b[1;33m\u001b[0m\u001b[0m\n\u001b[0;32m     11\u001b[0m     \u001b[0mstarting_point\u001b[0m \u001b[1;33m=\u001b[0m \u001b[1;33m-\u001b[0m\u001b[1;36m1\u001b[0m \u001b[1;33m*\u001b[0m \u001b[0mno_cols\u001b[0m\u001b[1;33m\u001b[0m\u001b[1;33m\u001b[0m\u001b[0m\n\u001b[1;32m---> 12\u001b[1;33m     \u001b[0mtest_run\u001b[0m \u001b[1;33m=\u001b[0m \u001b[0mlen\u001b[0m\u001b[1;33m(\u001b[0m\u001b[0mcolumns_list\u001b[0m\u001b[1;33m)\u001b[0m \u001b[1;33m//\u001b[0m \u001b[0mno_cols\u001b[0m \u001b[1;33m-\u001b[0m \u001b[1;36m1\u001b[0m\u001b[1;33m\u001b[0m\u001b[1;33m\u001b[0m\u001b[0m\n\u001b[0m\u001b[0;32m     13\u001b[0m     \u001b[0mend_point\u001b[0m \u001b[1;33m=\u001b[0m \u001b[0mlen\u001b[0m\u001b[1;33m(\u001b[0m\u001b[0mcolumns_list\u001b[0m\u001b[1;33m)\u001b[0m \u001b[1;33m//\u001b[0m \u001b[0mno_cols\u001b[0m\u001b[1;33m\u001b[0m\u001b[1;33m\u001b[0m\u001b[0m\n\u001b[0;32m     14\u001b[0m     \u001b[0mvariable_list\u001b[0m \u001b[1;33m=\u001b[0m \u001b[1;33m[\u001b[0m\u001b[1;33m]\u001b[0m\u001b[1;33m\u001b[0m\u001b[1;33m\u001b[0m\u001b[0m\n",
      "\u001b[1;31mZeroDivisionError\u001b[0m: integer division or modulo by zero"
     ]
    }
   ],
   "source": [
    "\n",
    "\n",
    "def table_maker(headers, columns_list):\n",
    "    no_cols = len(headers)\n",
    "    df_list = []\n",
    "    starting_point = -1 * no_cols\n",
    "    test_run = len(columns_list) // no_cols - 1\n",
    "    end_point = len(columns_list) // no_cols\n",
    "    variable_list = []\n",
    "    var = {}\n",
    "\n",
    "    for p in range(no_cols):\n",
    "        f_var = int(p)\n",
    "        variable_list.append(f_var)\n",
    "\n",
    "    for x in variable_list:\n",
    "        var[x] = []\n",
    "\n",
    "    if end_point%no_cols == 0:\n",
    "        while test_run >= 0:\n",
    "            starting_point += no_cols\n",
    "            end_point += no_cols\n",
    "            df_list.append(columns_list[starting_point:end_point])\n",
    "            test_run -= 1\n",
    "\n",
    "    else:\n",
    "        print(\"not divisible\")\n",
    "\n",
    "    for x1 in range(no_cols):\n",
    "        for y in df_list:\n",
    "            var[x1].append(y[x1])\n",
    "\n",
    "    df = pd.DataFrame(var)\n",
    "    renamed = {}\n",
    "    for p in range(no_cols):\n",
    "        renamed[p] = columns[p]\n",
    "        dataframe_final = df.rename(columns=renamed)\n",
    "        \n",
    "\n",
    "    print(dataframe_final)\n",
    "\n",
    "table_maker(columns, list_inside)"
   ]
  },
  {
   "cell_type": "code",
   "execution_count": null,
   "metadata": {},
   "outputs": [],
   "source": []
  }
 ],
 "metadata": {
  "kernelspec": {
   "display_name": "Python 3.7.7 64-bit ('monopoly': conda)",
   "language": "python",
   "name": "python37764bitmonopolyconda00269629c1734ae883031c5d8b160805"
  },
  "language_info": {
   "codemirror_mode": {
    "name": "ipython",
    "version": 3
   },
   "file_extension": ".py",
   "mimetype": "text/x-python",
   "name": "python",
   "nbconvert_exporter": "python",
   "pygments_lexer": "ipython3",
   "version": "3.7.7"
  }
 },
 "nbformat": 4,
 "nbformat_minor": 4
}
