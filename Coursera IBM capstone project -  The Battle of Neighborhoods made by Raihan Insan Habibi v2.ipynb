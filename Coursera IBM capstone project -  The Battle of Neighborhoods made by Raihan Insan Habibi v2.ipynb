{
 "cells": [
  {
   "cell_type": "markdown",
   "metadata": {},
   "source": [
    "# Coursera IBM capstone project -  The Battle of Neighborhoods"
   ]
  },
  {
   "cell_type": "markdown",
   "metadata": {},
   "source": [
    "<p> project title: </p>"
   ]
  },
  {
   "cell_type": "markdown",
   "metadata": {},
   "source": [
    "<h2>Finding a proper location for opening a new restaurant in the fututre that is suitable during the ‘covid - 19’ pandemic in Riyadh, Saudi Arabia using Data science and analytical tools</h2>"
   ]
  },
  {
   "cell_type": "markdown",
   "metadata": {},
   "source": [
    "<p> Author: Raihan Insan Habibi</p>"
   ]
  },
  {
   "cell_type": "markdown",
   "metadata": {},
   "source": [
    "<b>1. Introduction / business problems</b>"
   ]
  },
  {
   "cell_type": "markdown",
   "metadata": {},
   "source": [
    "On 4th May 2020, Saudi Arabia was struck by a deadly virus called the coronavirus also known by its scientific name 'covid-19'. and on the 9th of September 2020, the recovery rate in Saudi Arabia has increased dramatically because of the new-normal systems. social distancing has changed many methods for many businesses, especially for restaurants. Since things are slowly going back to normal, people who want to open up a restaurant in the future will have to have to find a suitable location that will be effective for business, even during the 'covid-19' pandemic. Finding a proper location requires various factors that data scientists need to consider and process, as well as all of the access to data information around the neighbourhood. In this report, I will be describing a simple analysis of data from Riyadh, Saudi Arabia city neighbourhood to find a decent location to open up a new restaurant."
   ]
  },
  {
   "cell_type": "markdown",
   "metadata": {},
   "source": [
    "<b>2. Data</b>"
   ]
  },
  {
   "cell_type": "markdown",
   "metadata": {},
   "source": [
    "(all data resources will be here)"
   ]
  },
  {
   "cell_type": "code",
   "execution_count": 104,
   "metadata": {},
   "outputs": [
    {
     "name": "stdout",
     "output_type": "stream",
     "text": [
      "Requirement already satisfied: bs4 in c:\\users\\mathl\\anaconda3\\lib\\site-packages (0.0.1)"
     ]
    },
    {
     "name": "stderr",
     "output_type": "stream",
     "text": [
      "WARNING: You are using pip version 20.3.3; however, version 21.0.1 is available.\n",
      "You should consider upgrading via the 'c:\\users\\mathl\\anaconda3\\python.exe -m pip install --upgrade pip' command.\n"
     ]
    },
    {
     "name": "stdout",
     "output_type": "stream",
     "text": [
      "\n",
      "Requirement already satisfied: beautifulsoup4 in c:\\users\\mathl\\anaconda3\\lib\\site-packages (from bs4) (4.9.1)\n",
      "Requirement already satisfied: soupsieve>1.2 in c:\\users\\mathl\\anaconda3\\lib\\site-packages (from beautifulsoup4->bs4) (2.0.1)\n"
     ]
    }
   ],
   "source": [
    "#!pip install geopy\n",
    "#!pip install folium\n",
    "#!pip install bs4"
   ]
  },
  {
   "cell_type": "code",
   "execution_count": 108,
   "metadata": {},
   "outputs": [
    {
     "name": "stdout",
     "output_type": "stream",
     "text": [
      "libaries imported\n"
     ]
    }
   ],
   "source": [
    "import numpy as np\n",
    "import pandas as pd\n",
    "import requests\n",
    "from geopy.geocoders import Nominatim\n",
    "import folium\n",
    "from pandas.io.json import json_normalize\n",
    "import bs4\n",
    "from urllib.request import urlopen as uReq\n",
    "from bs4 import BeautifulSoup as Soup\n",
    "print(\"libaries imported\")"
   ]
  },
  {
   "cell_type": "code",
   "execution_count": 98,
   "metadata": {},
   "outputs": [
    {
     "name": "stdout",
     "output_type": "stream",
     "text": [
      "(24.6161141, 46.7056208)\n"
     ]
    }
   ],
   "source": [
    "CLIENT_ID = 'P2X2VEDCLZQPBJVLBKFLTJIOJIMQENGZHXXCOLDAAAP1ATVA' \n",
    "CLIENT_SECRET = 'TX5XWBRYCABQ0DNWW110SNY12PZE242WYLDFKXFKREV3R3KX' \n",
    "VERSION = '20180604'\n",
    "LIMIT = 30\n",
    "\n",
    "address = '11564, Saudi Arabia, Riyadh'\n",
    "\n",
    "geolocator = Nominatim(user_agent=\"foursquare_agent\")\n",
    "location = geolocator.geocode(address)\n",
    "latitude = location.latitude\n",
    "longitude = location.longitude\n",
    "coords = (latitude, longitude)\n",
    "print(coords)\n",
    "Riyadh_map = folium.Map(coords)\n",
    "search_query = 'restaurant'\n",
    "radius = 2000\n",
    "LIMIT = 100"
   ]
  },
  {
   "cell_type": "code",
   "execution_count": 99,
   "metadata": {},
   "outputs": [
    {
     "data": {
      "text/plain": [
       "'https://api.foursquare.com/v2/venues/search?client_id=P2X2VEDCLZQPBJVLBKFLTJIOJIMQENGZHXXCOLDAAAP1ATVA&client_secret=TX5XWBRYCABQ0DNWW110SNY12PZE242WYLDFKXFKREV3R3KX&ll=24.6161141,46.7056208&v=20180604&query=restaurant&radius=2000&limit=100'"
      ]
     },
     "execution_count": 99,
     "metadata": {},
     "output_type": "execute_result"
    }
   ],
   "source": [
    "url = 'https://api.foursquare.com/v2/venues/search?client_id={}&client_secret={}&ll={},{}&v={}&query={}&radius={}&limit={}'.format(CLIENT_ID, CLIENT_SECRET, latitude, longitude, VERSION, search_query, radius, LIMIT)\n",
    "results = requests.get(url).json()\n",
    "url"
   ]
  },
  {
   "cell_type": "code",
   "execution_count": 100,
   "metadata": {
    "scrolled": false
   },
   "outputs": [
    {
     "name": "stderr",
     "output_type": "stream",
     "text": [
      "<ipython-input-100-8c85c09aef9d>:2: FutureWarning: pandas.io.json.json_normalize is deprecated, use pandas.json_normalize instead\n",
      "  df = json_normalize(venues)\n"
     ]
    },
    {
     "data": {
      "text/html": [
       "<div>\n",
       "<style scoped>\n",
       "    .dataframe tbody tr th:only-of-type {\n",
       "        vertical-align: middle;\n",
       "    }\n",
       "\n",
       "    .dataframe tbody tr th {\n",
       "        vertical-align: top;\n",
       "    }\n",
       "\n",
       "    .dataframe thead th {\n",
       "        text-align: right;\n",
       "    }\n",
       "</style>\n",
       "<table border=\"1\" class=\"dataframe\">\n",
       "  <thead>\n",
       "    <tr style=\"text-align: right;\">\n",
       "      <th></th>\n",
       "      <th>id</th>\n",
       "      <th>name</th>\n",
       "      <th>categories</th>\n",
       "      <th>referralId</th>\n",
       "      <th>hasPerk</th>\n",
       "      <th>location.lat</th>\n",
       "      <th>location.lng</th>\n",
       "      <th>location.labeledLatLngs</th>\n",
       "      <th>location.distance</th>\n",
       "      <th>location.cc</th>\n",
       "      <th>location.country</th>\n",
       "      <th>location.formattedAddress</th>\n",
       "      <th>location.address</th>\n",
       "      <th>location.city</th>\n",
       "      <th>location.state</th>\n",
       "      <th>location.crossStreet</th>\n",
       "      <th>location.postalCode</th>\n",
       "    </tr>\n",
       "  </thead>\n",
       "  <tbody>\n",
       "    <tr>\n",
       "      <th>0</th>\n",
       "      <td>5244c1fc11d22a457711e2da</td>\n",
       "      <td>Forouj Al carawan Restaurant</td>\n",
       "      <td>[{'id': '4f04af1f2fb6e1c99f3db0bb', 'name': 'T...</td>\n",
       "      <td>v-1614295244</td>\n",
       "      <td>False</td>\n",
       "      <td>24.603433</td>\n",
       "      <td>46.693419</td>\n",
       "      <td>[{'label': 'display', 'lat': 24.60343279032182...</td>\n",
       "      <td>1875</td>\n",
       "      <td>SA</td>\n",
       "      <td>المملكة العربية السعودية</td>\n",
       "      <td>[المملكة العربية السعودية]</td>\n",
       "      <td>NaN</td>\n",
       "      <td>NaN</td>\n",
       "      <td>NaN</td>\n",
       "      <td>NaN</td>\n",
       "      <td>NaN</td>\n",
       "    </tr>\n",
       "    <tr>\n",
       "      <th>1</th>\n",
       "      <td>5229b01111d27c467fc7f6d7</td>\n",
       "      <td>Redan Restaurant</td>\n",
       "      <td>[{'id': '4bf58dd8d48988d115941735', 'name': 'M...</td>\n",
       "      <td>v-1614295244</td>\n",
       "      <td>False</td>\n",
       "      <td>24.637627</td>\n",
       "      <td>46.701290</td>\n",
       "      <td>[{'label': 'display', 'lat': 24.63762676804035...</td>\n",
       "      <td>2434</td>\n",
       "      <td>SA</td>\n",
       "      <td>المملكة العربية السعودية</td>\n",
       "      <td>[المملكة العربية السعودية]</td>\n",
       "      <td>NaN</td>\n",
       "      <td>NaN</td>\n",
       "      <td>NaN</td>\n",
       "      <td>NaN</td>\n",
       "      <td>NaN</td>\n",
       "    </tr>\n",
       "    <tr>\n",
       "      <th>2</th>\n",
       "      <td>56556136498e006b1b195e46</td>\n",
       "      <td>Alshera3 Restaurant (مطاعم الشراع)</td>\n",
       "      <td>[{'id': '4bf58dd8d48988d1c5941735', 'name': 'S...</td>\n",
       "      <td>v-1614295244</td>\n",
       "      <td>False</td>\n",
       "      <td>24.601332</td>\n",
       "      <td>46.697614</td>\n",
       "      <td>[{'label': 'display', 'lat': 24.60133236677082...</td>\n",
       "      <td>1834</td>\n",
       "      <td>SA</td>\n",
       "      <td>المملكة العربية السعودية</td>\n",
       "      <td>[شارع السويدي العام, الرياض, المملكة العربية ا...</td>\n",
       "      <td>شارع السويدي العام</td>\n",
       "      <td>الرياض</td>\n",
       "      <td>منطقة الرياض‎</td>\n",
       "      <td>NaN</td>\n",
       "      <td>NaN</td>\n",
       "    </tr>\n",
       "    <tr>\n",
       "      <th>3</th>\n",
       "      <td>55f2d0c9498ecdec7378c2bd</td>\n",
       "      <td>Tekkady Restaurant (مطعم تيكادي)</td>\n",
       "      <td>[{'id': '54135bf5e4b08f3d2429dfdf', 'name': 'I...</td>\n",
       "      <td>v-1614295244</td>\n",
       "      <td>False</td>\n",
       "      <td>24.638121</td>\n",
       "      <td>46.702265</td>\n",
       "      <td>[{'label': 'display', 'lat': 24.638121, 'lng':...</td>\n",
       "      <td>2473</td>\n",
       "      <td>SA</td>\n",
       "      <td>المملكة العربية السعودية</td>\n",
       "      <td>[King Fahd Rd, الرياض, المملكة العربية السعودية]</td>\n",
       "      <td>King Fahd Rd</td>\n",
       "      <td>الرياض</td>\n",
       "      <td>منطقة الرياض‎</td>\n",
       "      <td>NaN</td>\n",
       "      <td>NaN</td>\n",
       "    </tr>\n",
       "    <tr>\n",
       "      <th>4</th>\n",
       "      <td>55f5be43498e1449d84fd3e7</td>\n",
       "      <td>Suha's Multi Cuisine Restaurant</td>\n",
       "      <td>[{'id': '4bf58dd8d48988d10f941735', 'name': 'I...</td>\n",
       "      <td>v-1614295244</td>\n",
       "      <td>False</td>\n",
       "      <td>24.608172</td>\n",
       "      <td>46.710604</td>\n",
       "      <td>[{'label': 'display', 'lat': 24.60817223004661...</td>\n",
       "      <td>1017</td>\n",
       "      <td>SA</td>\n",
       "      <td>المملكة العربية السعودية</td>\n",
       "      <td>[المملكة العربية السعودية]</td>\n",
       "      <td>NaN</td>\n",
       "      <td>NaN</td>\n",
       "      <td>NaN</td>\n",
       "      <td>NaN</td>\n",
       "      <td>NaN</td>\n",
       "    </tr>\n",
       "  </tbody>\n",
       "</table>\n",
       "</div>"
      ],
      "text/plain": [
       "                         id                                name  \\\n",
       "0  5244c1fc11d22a457711e2da        Forouj Al carawan Restaurant   \n",
       "1  5229b01111d27c467fc7f6d7                    Redan Restaurant   \n",
       "2  56556136498e006b1b195e46  Alshera3 Restaurant (مطاعم الشراع)   \n",
       "3  55f2d0c9498ecdec7378c2bd    Tekkady Restaurant (مطعم تيكادي)   \n",
       "4  55f5be43498e1449d84fd3e7     Suha's Multi Cuisine Restaurant   \n",
       "\n",
       "                                          categories    referralId  hasPerk  \\\n",
       "0  [{'id': '4f04af1f2fb6e1c99f3db0bb', 'name': 'T...  v-1614295244    False   \n",
       "1  [{'id': '4bf58dd8d48988d115941735', 'name': 'M...  v-1614295244    False   \n",
       "2  [{'id': '4bf58dd8d48988d1c5941735', 'name': 'S...  v-1614295244    False   \n",
       "3  [{'id': '54135bf5e4b08f3d2429dfdf', 'name': 'I...  v-1614295244    False   \n",
       "4  [{'id': '4bf58dd8d48988d10f941735', 'name': 'I...  v-1614295244    False   \n",
       "\n",
       "   location.lat  location.lng  \\\n",
       "0     24.603433     46.693419   \n",
       "1     24.637627     46.701290   \n",
       "2     24.601332     46.697614   \n",
       "3     24.638121     46.702265   \n",
       "4     24.608172     46.710604   \n",
       "\n",
       "                             location.labeledLatLngs  location.distance  \\\n",
       "0  [{'label': 'display', 'lat': 24.60343279032182...               1875   \n",
       "1  [{'label': 'display', 'lat': 24.63762676804035...               2434   \n",
       "2  [{'label': 'display', 'lat': 24.60133236677082...               1834   \n",
       "3  [{'label': 'display', 'lat': 24.638121, 'lng':...               2473   \n",
       "4  [{'label': 'display', 'lat': 24.60817223004661...               1017   \n",
       "\n",
       "  location.cc          location.country  \\\n",
       "0          SA  المملكة العربية السعودية   \n",
       "1          SA  المملكة العربية السعودية   \n",
       "2          SA  المملكة العربية السعودية   \n",
       "3          SA  المملكة العربية السعودية   \n",
       "4          SA  المملكة العربية السعودية   \n",
       "\n",
       "                           location.formattedAddress    location.address  \\\n",
       "0                         [المملكة العربية السعودية]                 NaN   \n",
       "1                         [المملكة العربية السعودية]                 NaN   \n",
       "2  [شارع السويدي العام, الرياض, المملكة العربية ا...  شارع السويدي العام   \n",
       "3   [King Fahd Rd, الرياض, المملكة العربية السعودية]        King Fahd Rd   \n",
       "4                         [المملكة العربية السعودية]                 NaN   \n",
       "\n",
       "  location.city location.state location.crossStreet location.postalCode  \n",
       "0           NaN            NaN                  NaN                 NaN  \n",
       "1           NaN            NaN                  NaN                 NaN  \n",
       "2        الرياض  منطقة الرياض‎                  NaN                 NaN  \n",
       "3        الرياض  منطقة الرياض‎                  NaN                 NaN  \n",
       "4           NaN            NaN                  NaN                 NaN  "
      ]
     },
     "execution_count": 100,
     "metadata": {},
     "output_type": "execute_result"
    }
   ],
   "source": [
    "venues = results['response']['venues']\n",
    "df = json_normalize(venues)\n",
    "df.head()"
   ]
  },
  {
   "cell_type": "code",
   "execution_count": 101,
   "metadata": {},
   "outputs": [
    {
     "name": "stdout",
     "output_type": "stream",
     "text": [
      "['id', 'name', 'categories', 'referralId', 'hasPerk', 'location.lat', 'location.lng', 'location.labeledLatLngs', 'location.distance', 'location.cc', 'location.country', 'location.formattedAddress', 'location.address', 'location.city', 'location.state', 'location.crossStreet', 'location.postalCode']\n"
     ]
    }
   ],
   "source": [
    "#cleaning data\n",
    "print(df.columns.tolist())\n",
    "df = df.drop([\"id\", \"categories\",\"location.country\",\"location.state\",'location.postalCode', \"referralId\", \"hasPerk\",'location.labeledLatLngs', 'location.cc','location.formattedAddress' ], axis = 1)\n",
    "df = df.rename(columns = {\"name\":\"Restaurant\",\n",
    "                          \"location.lat\":\"latitude\", \n",
    "                          'location.lng':\"longitude\",\n",
    "                          'location.distance':\"distance\",\n",
    "                          'location.address':\"address\", \n",
    "                          \"location.city\":\"city\",\n",
    "                          'location.crossStreet':\"street name\", \n",
    "                         })\n",
    "new_distance = []\n",
    "df[\"distance\"] = df[\"distance\"].astype(str)\n",
    "df[\"distance\"] = df[\"distance\"].tolist()\n",
    "for x in df[\"distance\"]:\n",
    "    y = x + \"km\"\n",
    "    new_distance.append(y)\n",
    "\n",
    "df[\"distance\"] = new_distance\n"
   ]
  },
  {
   "cell_type": "code",
   "execution_count": 102,
   "metadata": {},
   "outputs": [
    {
     "data": {
      "text/html": [
       "<div>\n",
       "<style scoped>\n",
       "    .dataframe tbody tr th:only-of-type {\n",
       "        vertical-align: middle;\n",
       "    }\n",
       "\n",
       "    .dataframe tbody tr th {\n",
       "        vertical-align: top;\n",
       "    }\n",
       "\n",
       "    .dataframe thead th {\n",
       "        text-align: right;\n",
       "    }\n",
       "</style>\n",
       "<table border=\"1\" class=\"dataframe\">\n",
       "  <thead>\n",
       "    <tr style=\"text-align: right;\">\n",
       "      <th></th>\n",
       "      <th>Restaurant</th>\n",
       "      <th>latitude</th>\n",
       "      <th>longitude</th>\n",
       "      <th>distance</th>\n",
       "      <th>address</th>\n",
       "      <th>city</th>\n",
       "      <th>street name</th>\n",
       "    </tr>\n",
       "  </thead>\n",
       "  <tbody>\n",
       "    <tr>\n",
       "      <th>0</th>\n",
       "      <td>Forouj Al carawan Restaurant</td>\n",
       "      <td>24.603433</td>\n",
       "      <td>46.693419</td>\n",
       "      <td>1875km</td>\n",
       "      <td>NaN</td>\n",
       "      <td>NaN</td>\n",
       "      <td>NaN</td>\n",
       "    </tr>\n",
       "    <tr>\n",
       "      <th>1</th>\n",
       "      <td>Redan Restaurant</td>\n",
       "      <td>24.637627</td>\n",
       "      <td>46.701290</td>\n",
       "      <td>2434km</td>\n",
       "      <td>NaN</td>\n",
       "      <td>NaN</td>\n",
       "      <td>NaN</td>\n",
       "    </tr>\n",
       "    <tr>\n",
       "      <th>2</th>\n",
       "      <td>Alshera3 Restaurant (مطاعم الشراع)</td>\n",
       "      <td>24.601332</td>\n",
       "      <td>46.697614</td>\n",
       "      <td>1834km</td>\n",
       "      <td>شارع السويدي العام</td>\n",
       "      <td>الرياض</td>\n",
       "      <td>NaN</td>\n",
       "    </tr>\n",
       "    <tr>\n",
       "      <th>3</th>\n",
       "      <td>Tekkady Restaurant (مطعم تيكادي)</td>\n",
       "      <td>24.638121</td>\n",
       "      <td>46.702265</td>\n",
       "      <td>2473km</td>\n",
       "      <td>King Fahd Rd</td>\n",
       "      <td>الرياض</td>\n",
       "      <td>NaN</td>\n",
       "    </tr>\n",
       "    <tr>\n",
       "      <th>4</th>\n",
       "      <td>Suha's Multi Cuisine Restaurant</td>\n",
       "      <td>24.608172</td>\n",
       "      <td>46.710604</td>\n",
       "      <td>1017km</td>\n",
       "      <td>NaN</td>\n",
       "      <td>NaN</td>\n",
       "      <td>NaN</td>\n",
       "    </tr>\n",
       "    <tr>\n",
       "      <th>5</th>\n",
       "      <td>Said Turkish Restaurant مطعم سعيد التركي</td>\n",
       "      <td>24.625771</td>\n",
       "      <td>46.694054</td>\n",
       "      <td>1589km</td>\n",
       "      <td>Assir st. شارع عسير</td>\n",
       "      <td>الرياض</td>\n",
       "      <td>Madinah Rd  طريق المدينة Ojaila Street</td>\n",
       "    </tr>\n",
       "    <tr>\n",
       "      <th>6</th>\n",
       "      <td>Peshawari Restaurant</td>\n",
       "      <td>24.624977</td>\n",
       "      <td>46.697323</td>\n",
       "      <td>1295km</td>\n",
       "      <td>7359 Al Umraniyah, Ash Shimaisi, Riyadh 12745 ...</td>\n",
       "      <td>الرياض</td>\n",
       "      <td>Al Jandal Street</td>\n",
       "    </tr>\n",
       "    <tr>\n",
       "      <th>7</th>\n",
       "      <td>Gad (جاد)</td>\n",
       "      <td>24.637952</td>\n",
       "      <td>46.706148</td>\n",
       "      <td>2431km</td>\n",
       "      <td>Fouta District</td>\n",
       "      <td>الرياض</td>\n",
       "      <td>Khazzan St.</td>\n",
       "    </tr>\n",
       "    <tr>\n",
       "      <th>8</th>\n",
       "      <td>Indian Summer Restaurant مطعم الصيف الهندي</td>\n",
       "      <td>24.616782</td>\n",
       "      <td>46.718141</td>\n",
       "      <td>1269km</td>\n",
       "      <td>3aeshah bent abi baker</td>\n",
       "      <td>NaN</td>\n",
       "      <td>NaN</td>\n",
       "    </tr>\n",
       "    <tr>\n",
       "      <th>9</th>\n",
       "      <td>AlDafwa Restaurant</td>\n",
       "      <td>24.629652</td>\n",
       "      <td>46.709054</td>\n",
       "      <td>1546km</td>\n",
       "      <td>Malaz Area</td>\n",
       "      <td>الرياض</td>\n",
       "      <td>Al Ahsa St.</td>\n",
       "    </tr>\n",
       "    <tr>\n",
       "      <th>10</th>\n",
       "      <td>Kashmir Restaurant Batha</td>\n",
       "      <td>24.608396</td>\n",
       "      <td>46.718387</td>\n",
       "      <td>1551km</td>\n",
       "      <td>NaN</td>\n",
       "      <td>NaN</td>\n",
       "      <td>NaN</td>\n",
       "    </tr>\n",
       "    <tr>\n",
       "      <th>11</th>\n",
       "      <td>Farid Restaurant</td>\n",
       "      <td>24.626908</td>\n",
       "      <td>46.696270</td>\n",
       "      <td>1529km</td>\n",
       "      <td>NaN</td>\n",
       "      <td>NaN</td>\n",
       "      <td>NaN</td>\n",
       "    </tr>\n",
       "    <tr>\n",
       "      <th>12</th>\n",
       "      <td>Said Turkish Restaurant مطعم سعيد التركي</td>\n",
       "      <td>24.625782</td>\n",
       "      <td>46.694134</td>\n",
       "      <td>1584km</td>\n",
       "      <td>Assir St</td>\n",
       "      <td>الرياض</td>\n",
       "      <td>Ojaila Street</td>\n",
       "    </tr>\n",
       "    <tr>\n",
       "      <th>13</th>\n",
       "      <td>Al Sheraa Restaurant (مطاعم الشراع)</td>\n",
       "      <td>24.600993</td>\n",
       "      <td>46.699215</td>\n",
       "      <td>1803km</td>\n",
       "      <td>As Suwaidy Al Aam St</td>\n",
       "      <td>الرياض</td>\n",
       "      <td>NaN</td>\n",
       "    </tr>\n",
       "    <tr>\n",
       "      <th>14</th>\n",
       "      <td>Rosai Restaurant</td>\n",
       "      <td>24.634623</td>\n",
       "      <td>46.716565</td>\n",
       "      <td>2339km</td>\n",
       "      <td>NaN</td>\n",
       "      <td>NaN</td>\n",
       "      <td>NaN</td>\n",
       "    </tr>\n",
       "    <tr>\n",
       "      <th>15</th>\n",
       "      <td>Deccan Darbar Restaurant (مطعم سنة)</td>\n",
       "      <td>24.618644</td>\n",
       "      <td>46.726496</td>\n",
       "      <td>2131km</td>\n",
       "      <td>Ghubaira</td>\n",
       "      <td>الرياض</td>\n",
       "      <td>NaN</td>\n",
       "    </tr>\n",
       "  </tbody>\n",
       "</table>\n",
       "</div>"
      ],
      "text/plain": [
       "                                    Restaurant   latitude  longitude distance  \\\n",
       "0                 Forouj Al carawan Restaurant  24.603433  46.693419   1875km   \n",
       "1                             Redan Restaurant  24.637627  46.701290   2434km   \n",
       "2           Alshera3 Restaurant (مطاعم الشراع)  24.601332  46.697614   1834km   \n",
       "3             Tekkady Restaurant (مطعم تيكادي)  24.638121  46.702265   2473km   \n",
       "4              Suha's Multi Cuisine Restaurant  24.608172  46.710604   1017km   \n",
       "5     Said Turkish Restaurant مطعم سعيد التركي  24.625771  46.694054   1589km   \n",
       "6                         Peshawari Restaurant  24.624977  46.697323   1295km   \n",
       "7                                    Gad (جاد)  24.637952  46.706148   2431km   \n",
       "8   Indian Summer Restaurant مطعم الصيف الهندي  24.616782  46.718141   1269km   \n",
       "9                           AlDafwa Restaurant  24.629652  46.709054   1546km   \n",
       "10                    Kashmir Restaurant Batha  24.608396  46.718387   1551km   \n",
       "11                            Farid Restaurant  24.626908  46.696270   1529km   \n",
       "12    Said Turkish Restaurant مطعم سعيد التركي  24.625782  46.694134   1584km   \n",
       "13         Al Sheraa Restaurant (مطاعم الشراع)  24.600993  46.699215   1803km   \n",
       "14                            Rosai Restaurant  24.634623  46.716565   2339km   \n",
       "15         Deccan Darbar Restaurant (مطعم سنة)  24.618644  46.726496   2131km   \n",
       "\n",
       "                                              address    city  \\\n",
       "0                                                 NaN     NaN   \n",
       "1                                                 NaN     NaN   \n",
       "2                                  شارع السويدي العام  الرياض   \n",
       "3                                        King Fahd Rd  الرياض   \n",
       "4                                                 NaN     NaN   \n",
       "5                                 Assir st. شارع عسير  الرياض   \n",
       "6   7359 Al Umraniyah, Ash Shimaisi, Riyadh 12745 ...  الرياض   \n",
       "7                                      Fouta District  الرياض   \n",
       "8                              3aeshah bent abi baker     NaN   \n",
       "9                                          Malaz Area  الرياض   \n",
       "10                                                NaN     NaN   \n",
       "11                                                NaN     NaN   \n",
       "12                                           Assir St  الرياض   \n",
       "13                               As Suwaidy Al Aam St  الرياض   \n",
       "14                                                NaN     NaN   \n",
       "15                                           Ghubaira  الرياض   \n",
       "\n",
       "                               street name  \n",
       "0                                      NaN  \n",
       "1                                      NaN  \n",
       "2                                      NaN  \n",
       "3                                      NaN  \n",
       "4                                      NaN  \n",
       "5   Madinah Rd  طريق المدينة Ojaila Street  \n",
       "6                         Al Jandal Street  \n",
       "7                              Khazzan St.  \n",
       "8                                      NaN  \n",
       "9                              Al Ahsa St.  \n",
       "10                                     NaN  \n",
       "11                                     NaN  \n",
       "12                           Ojaila Street  \n",
       "13                                     NaN  \n",
       "14                                     NaN  \n",
       "15                                     NaN  "
      ]
     },
     "execution_count": 102,
     "metadata": {},
     "output_type": "execute_result"
    }
   ],
   "source": [
    "df"
   ]
  },
  {
   "cell_type": "code",
   "execution_count": 122,
   "metadata": {},
   "outputs": [
    {
     "data": {
      "text/html": [
       "<div style=\"width:100%;\"><div style=\"position:relative;width:100%;height:0;padding-bottom:60%;\"><span style=\"color:#565656\">Make this Notebook Trusted to load map: File -> Trust Notebook</span><iframe src=\"about:blank\" style=\"position:absolute;width:100%;height:100%;left:0;top:0;border:none !important;\" data-html=%3C%21DOCTYPE%20html%3E%0A%3Chead%3E%20%20%20%20%0A%20%20%20%20%3Cmeta%20http-equiv%3D%22content-type%22%20content%3D%22text/html%3B%20charset%3DUTF-8%22%20/%3E%0A%20%20%20%20%0A%20%20%20%20%20%20%20%20%3Cscript%3E%0A%20%20%20%20%20%20%20%20%20%20%20%20L_NO_TOUCH%20%3D%20false%3B%0A%20%20%20%20%20%20%20%20%20%20%20%20L_DISABLE_3D%20%3D%20false%3B%0A%20%20%20%20%20%20%20%20%3C/script%3E%0A%20%20%20%20%0A%20%20%20%20%3Cstyle%3Ehtml%2C%20body%20%7Bwidth%3A%20100%25%3Bheight%3A%20100%25%3Bmargin%3A%200%3Bpadding%3A%200%3B%7D%3C/style%3E%0A%20%20%20%20%3Cstyle%3E%23map%20%7Bposition%3Aabsolute%3Btop%3A0%3Bbottom%3A0%3Bright%3A0%3Bleft%3A0%3B%7D%3C/style%3E%0A%20%20%20%20%3Cscript%20src%3D%22https%3A//cdn.jsdelivr.net/npm/leaflet%401.6.0/dist/leaflet.js%22%3E%3C/script%3E%0A%20%20%20%20%3Cscript%20src%3D%22https%3A//code.jquery.com/jquery-1.12.4.min.js%22%3E%3C/script%3E%0A%20%20%20%20%3Cscript%20src%3D%22https%3A//maxcdn.bootstrapcdn.com/bootstrap/3.2.0/js/bootstrap.min.js%22%3E%3C/script%3E%0A%20%20%20%20%3Cscript%20src%3D%22https%3A//cdnjs.cloudflare.com/ajax/libs/Leaflet.awesome-markers/2.0.2/leaflet.awesome-markers.js%22%3E%3C/script%3E%0A%20%20%20%20%3Clink%20rel%3D%22stylesheet%22%20href%3D%22https%3A//cdn.jsdelivr.net/npm/leaflet%401.6.0/dist/leaflet.css%22/%3E%0A%20%20%20%20%3Clink%20rel%3D%22stylesheet%22%20href%3D%22https%3A//maxcdn.bootstrapcdn.com/bootstrap/3.2.0/css/bootstrap.min.css%22/%3E%0A%20%20%20%20%3Clink%20rel%3D%22stylesheet%22%20href%3D%22https%3A//maxcdn.bootstrapcdn.com/bootstrap/3.2.0/css/bootstrap-theme.min.css%22/%3E%0A%20%20%20%20%3Clink%20rel%3D%22stylesheet%22%20href%3D%22https%3A//maxcdn.bootstrapcdn.com/font-awesome/4.6.3/css/font-awesome.min.css%22/%3E%0A%20%20%20%20%3Clink%20rel%3D%22stylesheet%22%20href%3D%22https%3A//cdnjs.cloudflare.com/ajax/libs/Leaflet.awesome-markers/2.0.2/leaflet.awesome-markers.css%22/%3E%0A%20%20%20%20%3Clink%20rel%3D%22stylesheet%22%20href%3D%22https%3A//cdn.jsdelivr.net/gh/python-visualization/folium/folium/templates/leaflet.awesome.rotate.min.css%22/%3E%0A%20%20%20%20%0A%20%20%20%20%20%20%20%20%20%20%20%20%3Cmeta%20name%3D%22viewport%22%20content%3D%22width%3Ddevice-width%2C%0A%20%20%20%20%20%20%20%20%20%20%20%20%20%20%20%20initial-scale%3D1.0%2C%20maximum-scale%3D1.0%2C%20user-scalable%3Dno%22%20/%3E%0A%20%20%20%20%20%20%20%20%20%20%20%20%3Cstyle%3E%0A%20%20%20%20%20%20%20%20%20%20%20%20%20%20%20%20%23map_c1cc545d8a474fbd834083bc01853f25%20%7B%0A%20%20%20%20%20%20%20%20%20%20%20%20%20%20%20%20%20%20%20%20position%3A%20relative%3B%0A%20%20%20%20%20%20%20%20%20%20%20%20%20%20%20%20%20%20%20%20width%3A%20100.0%25%3B%0A%20%20%20%20%20%20%20%20%20%20%20%20%20%20%20%20%20%20%20%20height%3A%20100.0%25%3B%0A%20%20%20%20%20%20%20%20%20%20%20%20%20%20%20%20%20%20%20%20left%3A%200.0%25%3B%0A%20%20%20%20%20%20%20%20%20%20%20%20%20%20%20%20%20%20%20%20top%3A%200.0%25%3B%0A%20%20%20%20%20%20%20%20%20%20%20%20%20%20%20%20%7D%0A%20%20%20%20%20%20%20%20%20%20%20%20%3C/style%3E%0A%20%20%20%20%20%20%20%20%0A%3C/head%3E%0A%3Cbody%3E%20%20%20%20%0A%20%20%20%20%0A%20%20%20%20%20%20%20%20%20%20%20%20%3Cdiv%20class%3D%22folium-map%22%20id%3D%22map_c1cc545d8a474fbd834083bc01853f25%22%20%3E%3C/div%3E%0A%20%20%20%20%20%20%20%20%0A%3C/body%3E%0A%3Cscript%3E%20%20%20%20%0A%20%20%20%20%0A%20%20%20%20%20%20%20%20%20%20%20%20var%20map_c1cc545d8a474fbd834083bc01853f25%20%3D%20L.map%28%0A%20%20%20%20%20%20%20%20%20%20%20%20%20%20%20%20%22map_c1cc545d8a474fbd834083bc01853f25%22%2C%0A%20%20%20%20%20%20%20%20%20%20%20%20%20%20%20%20%7B%0A%20%20%20%20%20%20%20%20%20%20%20%20%20%20%20%20%20%20%20%20center%3A%20%5B24.61864410450336%2C%2046.72649589348254%5D%2C%0A%20%20%20%20%20%20%20%20%20%20%20%20%20%20%20%20%20%20%20%20crs%3A%20L.CRS.EPSG3857%2C%0A%20%20%20%20%20%20%20%20%20%20%20%20%20%20%20%20%20%20%20%20zoom%3A%2014%2C%0A%20%20%20%20%20%20%20%20%20%20%20%20%20%20%20%20%20%20%20%20zoomControl%3A%20true%2C%0A%20%20%20%20%20%20%20%20%20%20%20%20%20%20%20%20%20%20%20%20preferCanvas%3A%20false%2C%0A%20%20%20%20%20%20%20%20%20%20%20%20%20%20%20%20%7D%0A%20%20%20%20%20%20%20%20%20%20%20%20%29%3B%0A%0A%20%20%20%20%20%20%20%20%20%20%20%20%0A%0A%20%20%20%20%20%20%20%20%0A%20%20%20%20%0A%20%20%20%20%20%20%20%20%20%20%20%20var%20tile_layer_6a84398b8c7e45bfb3a4f94b4aec1b3c%20%3D%20L.tileLayer%28%0A%20%20%20%20%20%20%20%20%20%20%20%20%20%20%20%20%22https%3A//%7Bs%7D.tile.openstreetmap.org/%7Bz%7D/%7Bx%7D/%7By%7D.png%22%2C%0A%20%20%20%20%20%20%20%20%20%20%20%20%20%20%20%20%7B%22attribution%22%3A%20%22Data%20by%20%5Cu0026copy%3B%20%5Cu003ca%20href%3D%5C%22http%3A//openstreetmap.org%5C%22%5Cu003eOpenStreetMap%5Cu003c/a%5Cu003e%2C%20under%20%5Cu003ca%20href%3D%5C%22http%3A//www.openstreetmap.org/copyright%5C%22%5Cu003eODbL%5Cu003c/a%5Cu003e.%22%2C%20%22detectRetina%22%3A%20false%2C%20%22maxNativeZoom%22%3A%2018%2C%20%22maxZoom%22%3A%2018%2C%20%22minZoom%22%3A%200%2C%20%22noWrap%22%3A%20false%2C%20%22opacity%22%3A%201%2C%20%22subdomains%22%3A%20%22abc%22%2C%20%22tms%22%3A%20false%7D%0A%20%20%20%20%20%20%20%20%20%20%20%20%29.addTo%28map_c1cc545d8a474fbd834083bc01853f25%29%3B%0A%20%20%20%20%20%20%20%20%0A%20%20%20%20%0A%20%20%20%20%20%20%20%20%20%20%20%20var%20marker_ec5efa5d5348469cb6a39117b6a77147%20%3D%20L.marker%28%0A%20%20%20%20%20%20%20%20%20%20%20%20%20%20%20%20%5B24.603432790321822%2C%2046.693419266853326%5D%2C%0A%20%20%20%20%20%20%20%20%20%20%20%20%20%20%20%20%7B%7D%0A%20%20%20%20%20%20%20%20%20%20%20%20%29.addTo%28map_c1cc545d8a474fbd834083bc01853f25%29%3B%0A%20%20%20%20%20%20%20%20%0A%20%20%20%20%0A%20%20%20%20%20%20%20%20var%20popup_95a164df60dd430aa4da273f0d62bd94%20%3D%20L.popup%28%7B%22maxWidth%22%3A%20%22100%25%22%7D%29%3B%0A%0A%20%20%20%20%20%20%20%20%0A%20%20%20%20%20%20%20%20%20%20%20%20var%20html_bcbdb1c0018c4bacbcf7dbf7ed4ada67%20%3D%20%24%28%60%3Cdiv%20id%3D%22html_bcbdb1c0018c4bacbcf7dbf7ed4ada67%22%20style%3D%22width%3A%20100.0%25%3B%20height%3A%20100.0%25%3B%22%3EForouj%20Al%20carawan%20Restaurant%3C/div%3E%60%29%5B0%5D%3B%0A%20%20%20%20%20%20%20%20%20%20%20%20popup_95a164df60dd430aa4da273f0d62bd94.setContent%28html_bcbdb1c0018c4bacbcf7dbf7ed4ada67%29%3B%0A%20%20%20%20%20%20%20%20%0A%0A%20%20%20%20%20%20%20%20marker_ec5efa5d5348469cb6a39117b6a77147.bindPopup%28popup_95a164df60dd430aa4da273f0d62bd94%29%0A%20%20%20%20%20%20%20%20%3B%0A%0A%20%20%20%20%20%20%20%20%0A%20%20%20%20%0A%20%20%20%20%0A%20%20%20%20%20%20%20%20%20%20%20%20var%20marker_7101a2baa34245e0b2f86a5ea3d73e53%20%3D%20L.marker%28%0A%20%20%20%20%20%20%20%20%20%20%20%20%20%20%20%20%5B24.637626768040352%2C%2046.701289623304426%5D%2C%0A%20%20%20%20%20%20%20%20%20%20%20%20%20%20%20%20%7B%7D%0A%20%20%20%20%20%20%20%20%20%20%20%20%29.addTo%28map_c1cc545d8a474fbd834083bc01853f25%29%3B%0A%20%20%20%20%20%20%20%20%0A%20%20%20%20%0A%20%20%20%20%20%20%20%20var%20popup_9a71247b36444e5cbb368760b78fb2b5%20%3D%20L.popup%28%7B%22maxWidth%22%3A%20%22100%25%22%7D%29%3B%0A%0A%20%20%20%20%20%20%20%20%0A%20%20%20%20%20%20%20%20%20%20%20%20var%20html_e5acbc37caca4863858d881261e64c04%20%3D%20%24%28%60%3Cdiv%20id%3D%22html_e5acbc37caca4863858d881261e64c04%22%20style%3D%22width%3A%20100.0%25%3B%20height%3A%20100.0%25%3B%22%3ERedan%20Restaurant%3C/div%3E%60%29%5B0%5D%3B%0A%20%20%20%20%20%20%20%20%20%20%20%20popup_9a71247b36444e5cbb368760b78fb2b5.setContent%28html_e5acbc37caca4863858d881261e64c04%29%3B%0A%20%20%20%20%20%20%20%20%0A%0A%20%20%20%20%20%20%20%20marker_7101a2baa34245e0b2f86a5ea3d73e53.bindPopup%28popup_9a71247b36444e5cbb368760b78fb2b5%29%0A%20%20%20%20%20%20%20%20%3B%0A%0A%20%20%20%20%20%20%20%20%0A%20%20%20%20%0A%20%20%20%20%0A%20%20%20%20%20%20%20%20%20%20%20%20var%20marker_f5d4a0cc336e405bac6c0077ca944ce0%20%3D%20L.marker%28%0A%20%20%20%20%20%20%20%20%20%20%20%20%20%20%20%20%5B24.601332366770826%2C%2046.697614277312056%5D%2C%0A%20%20%20%20%20%20%20%20%20%20%20%20%20%20%20%20%7B%7D%0A%20%20%20%20%20%20%20%20%20%20%20%20%29.addTo%28map_c1cc545d8a474fbd834083bc01853f25%29%3B%0A%20%20%20%20%20%20%20%20%0A%20%20%20%20%0A%20%20%20%20%20%20%20%20var%20popup_0c9d62b23715471688b0d232b9b93060%20%3D%20L.popup%28%7B%22maxWidth%22%3A%20%22100%25%22%7D%29%3B%0A%0A%20%20%20%20%20%20%20%20%0A%20%20%20%20%20%20%20%20%20%20%20%20var%20html_01eebe66850946898f7faff2b9701e7f%20%3D%20%24%28%60%3Cdiv%20id%3D%22html_01eebe66850946898f7faff2b9701e7f%22%20style%3D%22width%3A%20100.0%25%3B%20height%3A%20100.0%25%3B%22%3EAlshera3%20Restaurant%20%28%D9%85%D8%B7%D8%A7%D8%B9%D9%85%20%D8%A7%D9%84%D8%B4%D8%B1%D8%A7%D8%B9%29%3C/div%3E%60%29%5B0%5D%3B%0A%20%20%20%20%20%20%20%20%20%20%20%20popup_0c9d62b23715471688b0d232b9b93060.setContent%28html_01eebe66850946898f7faff2b9701e7f%29%3B%0A%20%20%20%20%20%20%20%20%0A%0A%20%20%20%20%20%20%20%20marker_f5d4a0cc336e405bac6c0077ca944ce0.bindPopup%28popup_0c9d62b23715471688b0d232b9b93060%29%0A%20%20%20%20%20%20%20%20%3B%0A%0A%20%20%20%20%20%20%20%20%0A%20%20%20%20%0A%20%20%20%20%0A%20%20%20%20%20%20%20%20%20%20%20%20var%20marker_4d100b79f1b7438eb3926b56b7ecdc98%20%3D%20L.marker%28%0A%20%20%20%20%20%20%20%20%20%20%20%20%20%20%20%20%5B24.638121%2C%2046.702265%5D%2C%0A%20%20%20%20%20%20%20%20%20%20%20%20%20%20%20%20%7B%7D%0A%20%20%20%20%20%20%20%20%20%20%20%20%29.addTo%28map_c1cc545d8a474fbd834083bc01853f25%29%3B%0A%20%20%20%20%20%20%20%20%0A%20%20%20%20%0A%20%20%20%20%20%20%20%20var%20popup_ec676e69ee2b47f89d34a73ef84697c6%20%3D%20L.popup%28%7B%22maxWidth%22%3A%20%22100%25%22%7D%29%3B%0A%0A%20%20%20%20%20%20%20%20%0A%20%20%20%20%20%20%20%20%20%20%20%20var%20html_134593188c0c49c7b6b7bce55184f4e3%20%3D%20%24%28%60%3Cdiv%20id%3D%22html_134593188c0c49c7b6b7bce55184f4e3%22%20style%3D%22width%3A%20100.0%25%3B%20height%3A%20100.0%25%3B%22%3ETekkady%20Restaurant%20%28%D9%85%D8%B7%D8%B9%D9%85%20%D8%AA%D9%8A%D9%83%D8%A7%D8%AF%D9%8A%29%3C/div%3E%60%29%5B0%5D%3B%0A%20%20%20%20%20%20%20%20%20%20%20%20popup_ec676e69ee2b47f89d34a73ef84697c6.setContent%28html_134593188c0c49c7b6b7bce55184f4e3%29%3B%0A%20%20%20%20%20%20%20%20%0A%0A%20%20%20%20%20%20%20%20marker_4d100b79f1b7438eb3926b56b7ecdc98.bindPopup%28popup_ec676e69ee2b47f89d34a73ef84697c6%29%0A%20%20%20%20%20%20%20%20%3B%0A%0A%20%20%20%20%20%20%20%20%0A%20%20%20%20%0A%20%20%20%20%0A%20%20%20%20%20%20%20%20%20%20%20%20var%20marker_90100dcf54c54c699ff39039089307a4%20%3D%20L.marker%28%0A%20%20%20%20%20%20%20%20%20%20%20%20%20%20%20%20%5B24.60817223004661%2C%2046.71060422448648%5D%2C%0A%20%20%20%20%20%20%20%20%20%20%20%20%20%20%20%20%7B%7D%0A%20%20%20%20%20%20%20%20%20%20%20%20%29.addTo%28map_c1cc545d8a474fbd834083bc01853f25%29%3B%0A%20%20%20%20%20%20%20%20%0A%20%20%20%20%0A%20%20%20%20%20%20%20%20var%20popup_e4eb40e888234561938db5c0f6659220%20%3D%20L.popup%28%7B%22maxWidth%22%3A%20%22100%25%22%7D%29%3B%0A%0A%20%20%20%20%20%20%20%20%0A%20%20%20%20%20%20%20%20%20%20%20%20var%20html_48b0b8eb66d84e6c97192f201a730d03%20%3D%20%24%28%60%3Cdiv%20id%3D%22html_48b0b8eb66d84e6c97192f201a730d03%22%20style%3D%22width%3A%20100.0%25%3B%20height%3A%20100.0%25%3B%22%3ESuha%27s%20Multi%20Cuisine%20Restaurant%3C/div%3E%60%29%5B0%5D%3B%0A%20%20%20%20%20%20%20%20%20%20%20%20popup_e4eb40e888234561938db5c0f6659220.setContent%28html_48b0b8eb66d84e6c97192f201a730d03%29%3B%0A%20%20%20%20%20%20%20%20%0A%0A%20%20%20%20%20%20%20%20marker_90100dcf54c54c699ff39039089307a4.bindPopup%28popup_e4eb40e888234561938db5c0f6659220%29%0A%20%20%20%20%20%20%20%20%3B%0A%0A%20%20%20%20%20%20%20%20%0A%20%20%20%20%0A%20%20%20%20%0A%20%20%20%20%20%20%20%20%20%20%20%20var%20marker_84217ac0be8d40dba77e32847888fae4%20%3D%20L.marker%28%0A%20%20%20%20%20%20%20%20%20%20%20%20%20%20%20%20%5B24.625771%2C%2046.694054%5D%2C%0A%20%20%20%20%20%20%20%20%20%20%20%20%20%20%20%20%7B%7D%0A%20%20%20%20%20%20%20%20%20%20%20%20%29.addTo%28map_c1cc545d8a474fbd834083bc01853f25%29%3B%0A%20%20%20%20%20%20%20%20%0A%20%20%20%20%0A%20%20%20%20%20%20%20%20var%20popup_9d54900d55a942a6b0e9301a276dd57e%20%3D%20L.popup%28%7B%22maxWidth%22%3A%20%22100%25%22%7D%29%3B%0A%0A%20%20%20%20%20%20%20%20%0A%20%20%20%20%20%20%20%20%20%20%20%20var%20html_ffebd5ac454e400cb9980a2ee9b3eff4%20%3D%20%24%28%60%3Cdiv%20id%3D%22html_ffebd5ac454e400cb9980a2ee9b3eff4%22%20style%3D%22width%3A%20100.0%25%3B%20height%3A%20100.0%25%3B%22%3ESaid%20Turkish%20Restaurant%20%D9%85%D8%B7%D8%B9%D9%85%20%D8%B3%D8%B9%D9%8A%D8%AF%20%D8%A7%D9%84%D8%AA%D8%B1%D9%83%D9%8A%3C/div%3E%60%29%5B0%5D%3B%0A%20%20%20%20%20%20%20%20%20%20%20%20popup_9d54900d55a942a6b0e9301a276dd57e.setContent%28html_ffebd5ac454e400cb9980a2ee9b3eff4%29%3B%0A%20%20%20%20%20%20%20%20%0A%0A%20%20%20%20%20%20%20%20marker_84217ac0be8d40dba77e32847888fae4.bindPopup%28popup_9d54900d55a942a6b0e9301a276dd57e%29%0A%20%20%20%20%20%20%20%20%3B%0A%0A%20%20%20%20%20%20%20%20%0A%20%20%20%20%0A%20%20%20%20%0A%20%20%20%20%20%20%20%20%20%20%20%20var%20marker_c43007f8193f4f14ae5e906b6f0c210f%20%3D%20L.marker%28%0A%20%20%20%20%20%20%20%20%20%20%20%20%20%20%20%20%5B24.62497710663795%2C%2046.69732332229614%5D%2C%0A%20%20%20%20%20%20%20%20%20%20%20%20%20%20%20%20%7B%7D%0A%20%20%20%20%20%20%20%20%20%20%20%20%29.addTo%28map_c1cc545d8a474fbd834083bc01853f25%29%3B%0A%20%20%20%20%20%20%20%20%0A%20%20%20%20%0A%20%20%20%20%20%20%20%20var%20popup_198cdfe78ca54fcf94f2278207bd3964%20%3D%20L.popup%28%7B%22maxWidth%22%3A%20%22100%25%22%7D%29%3B%0A%0A%20%20%20%20%20%20%20%20%0A%20%20%20%20%20%20%20%20%20%20%20%20var%20html_46ba0e1a68a44b98a79d2c5e4e03a3c5%20%3D%20%24%28%60%3Cdiv%20id%3D%22html_46ba0e1a68a44b98a79d2c5e4e03a3c5%22%20style%3D%22width%3A%20100.0%25%3B%20height%3A%20100.0%25%3B%22%3EPeshawari%20Restaurant%3C/div%3E%60%29%5B0%5D%3B%0A%20%20%20%20%20%20%20%20%20%20%20%20popup_198cdfe78ca54fcf94f2278207bd3964.setContent%28html_46ba0e1a68a44b98a79d2c5e4e03a3c5%29%3B%0A%20%20%20%20%20%20%20%20%0A%0A%20%20%20%20%20%20%20%20marker_c43007f8193f4f14ae5e906b6f0c210f.bindPopup%28popup_198cdfe78ca54fcf94f2278207bd3964%29%0A%20%20%20%20%20%20%20%20%3B%0A%0A%20%20%20%20%20%20%20%20%0A%20%20%20%20%0A%20%20%20%20%0A%20%20%20%20%20%20%20%20%20%20%20%20var%20marker_b16115ab28dc42229278a2668120b0d5%20%3D%20L.marker%28%0A%20%20%20%20%20%20%20%20%20%20%20%20%20%20%20%20%5B24.637951559286584%2C%2046.70614814234214%5D%2C%0A%20%20%20%20%20%20%20%20%20%20%20%20%20%20%20%20%7B%7D%0A%20%20%20%20%20%20%20%20%20%20%20%20%29.addTo%28map_c1cc545d8a474fbd834083bc01853f25%29%3B%0A%20%20%20%20%20%20%20%20%0A%20%20%20%20%0A%20%20%20%20%20%20%20%20var%20popup_41c075942ac74764a2553a7dba0ea98e%20%3D%20L.popup%28%7B%22maxWidth%22%3A%20%22100%25%22%7D%29%3B%0A%0A%20%20%20%20%20%20%20%20%0A%20%20%20%20%20%20%20%20%20%20%20%20var%20html_e2c87c0a8d174034bee2d65ce1ca0fdf%20%3D%20%24%28%60%3Cdiv%20id%3D%22html_e2c87c0a8d174034bee2d65ce1ca0fdf%22%20style%3D%22width%3A%20100.0%25%3B%20height%3A%20100.0%25%3B%22%3EGad%20%28%D8%AC%D8%A7%D8%AF%29%3C/div%3E%60%29%5B0%5D%3B%0A%20%20%20%20%20%20%20%20%20%20%20%20popup_41c075942ac74764a2553a7dba0ea98e.setContent%28html_e2c87c0a8d174034bee2d65ce1ca0fdf%29%3B%0A%20%20%20%20%20%20%20%20%0A%0A%20%20%20%20%20%20%20%20marker_b16115ab28dc42229278a2668120b0d5.bindPopup%28popup_41c075942ac74764a2553a7dba0ea98e%29%0A%20%20%20%20%20%20%20%20%3B%0A%0A%20%20%20%20%20%20%20%20%0A%20%20%20%20%0A%20%20%20%20%0A%20%20%20%20%20%20%20%20%20%20%20%20var%20marker_1bee669dc0bb427a85b4d122fd7a7326%20%3D%20L.marker%28%0A%20%20%20%20%20%20%20%20%20%20%20%20%20%20%20%20%5B24.616782389058475%2C%2046.71814116524335%5D%2C%0A%20%20%20%20%20%20%20%20%20%20%20%20%20%20%20%20%7B%7D%0A%20%20%20%20%20%20%20%20%20%20%20%20%29.addTo%28map_c1cc545d8a474fbd834083bc01853f25%29%3B%0A%20%20%20%20%20%20%20%20%0A%20%20%20%20%0A%20%20%20%20%20%20%20%20var%20popup_343598546d57448eb035935eda54ce5d%20%3D%20L.popup%28%7B%22maxWidth%22%3A%20%22100%25%22%7D%29%3B%0A%0A%20%20%20%20%20%20%20%20%0A%20%20%20%20%20%20%20%20%20%20%20%20var%20html_4fc271d2eb544417b0cd10efa65668c5%20%3D%20%24%28%60%3Cdiv%20id%3D%22html_4fc271d2eb544417b0cd10efa65668c5%22%20style%3D%22width%3A%20100.0%25%3B%20height%3A%20100.0%25%3B%22%3EIndian%20Summer%20Restaurant%20%D9%85%D8%B7%D8%B9%D9%85%20%D8%A7%D9%84%D8%B5%D9%8A%D9%81%20%D8%A7%D9%84%D9%87%D9%86%D8%AF%D9%8A%3C/div%3E%60%29%5B0%5D%3B%0A%20%20%20%20%20%20%20%20%20%20%20%20popup_343598546d57448eb035935eda54ce5d.setContent%28html_4fc271d2eb544417b0cd10efa65668c5%29%3B%0A%20%20%20%20%20%20%20%20%0A%0A%20%20%20%20%20%20%20%20marker_1bee669dc0bb427a85b4d122fd7a7326.bindPopup%28popup_343598546d57448eb035935eda54ce5d%29%0A%20%20%20%20%20%20%20%20%3B%0A%0A%20%20%20%20%20%20%20%20%0A%20%20%20%20%0A%20%20%20%20%0A%20%20%20%20%20%20%20%20%20%20%20%20var%20marker_a3b80ce40d784b0d87eed9871e25b77a%20%3D%20L.marker%28%0A%20%20%20%20%20%20%20%20%20%20%20%20%20%20%20%20%5B24.629652%2C%2046.709054%5D%2C%0A%20%20%20%20%20%20%20%20%20%20%20%20%20%20%20%20%7B%7D%0A%20%20%20%20%20%20%20%20%20%20%20%20%29.addTo%28map_c1cc545d8a474fbd834083bc01853f25%29%3B%0A%20%20%20%20%20%20%20%20%0A%20%20%20%20%0A%20%20%20%20%20%20%20%20var%20popup_d16a2ebe782b4ea1a27c383534ca3b35%20%3D%20L.popup%28%7B%22maxWidth%22%3A%20%22100%25%22%7D%29%3B%0A%0A%20%20%20%20%20%20%20%20%0A%20%20%20%20%20%20%20%20%20%20%20%20var%20html_b76024c3b97946d4893e4c6fa55496b1%20%3D%20%24%28%60%3Cdiv%20id%3D%22html_b76024c3b97946d4893e4c6fa55496b1%22%20style%3D%22width%3A%20100.0%25%3B%20height%3A%20100.0%25%3B%22%3EAlDafwa%20Restaurant%3C/div%3E%60%29%5B0%5D%3B%0A%20%20%20%20%20%20%20%20%20%20%20%20popup_d16a2ebe782b4ea1a27c383534ca3b35.setContent%28html_b76024c3b97946d4893e4c6fa55496b1%29%3B%0A%20%20%20%20%20%20%20%20%0A%0A%20%20%20%20%20%20%20%20marker_a3b80ce40d784b0d87eed9871e25b77a.bindPopup%28popup_d16a2ebe782b4ea1a27c383534ca3b35%29%0A%20%20%20%20%20%20%20%20%3B%0A%0A%20%20%20%20%20%20%20%20%0A%20%20%20%20%0A%20%20%20%20%0A%20%20%20%20%20%20%20%20%20%20%20%20var%20marker_e0958f0766124a1fbacfa881669c9443%20%3D%20L.marker%28%0A%20%20%20%20%20%20%20%20%20%20%20%20%20%20%20%20%5B24.608395898271787%2C%2046.71838659502664%5D%2C%0A%20%20%20%20%20%20%20%20%20%20%20%20%20%20%20%20%7B%7D%0A%20%20%20%20%20%20%20%20%20%20%20%20%29.addTo%28map_c1cc545d8a474fbd834083bc01853f25%29%3B%0A%20%20%20%20%20%20%20%20%0A%20%20%20%20%0A%20%20%20%20%20%20%20%20var%20popup_2186db16da5547a1a7b892e582f3275f%20%3D%20L.popup%28%7B%22maxWidth%22%3A%20%22100%25%22%7D%29%3B%0A%0A%20%20%20%20%20%20%20%20%0A%20%20%20%20%20%20%20%20%20%20%20%20var%20html_bcdb7aaf80b64a079a97816cb9887fcd%20%3D%20%24%28%60%3Cdiv%20id%3D%22html_bcdb7aaf80b64a079a97816cb9887fcd%22%20style%3D%22width%3A%20100.0%25%3B%20height%3A%20100.0%25%3B%22%3EKashmir%20Restaurant%20Batha%3C/div%3E%60%29%5B0%5D%3B%0A%20%20%20%20%20%20%20%20%20%20%20%20popup_2186db16da5547a1a7b892e582f3275f.setContent%28html_bcdb7aaf80b64a079a97816cb9887fcd%29%3B%0A%20%20%20%20%20%20%20%20%0A%0A%20%20%20%20%20%20%20%20marker_e0958f0766124a1fbacfa881669c9443.bindPopup%28popup_2186db16da5547a1a7b892e582f3275f%29%0A%20%20%20%20%20%20%20%20%3B%0A%0A%20%20%20%20%20%20%20%20%0A%20%20%20%20%0A%20%20%20%20%0A%20%20%20%20%20%20%20%20%20%20%20%20var%20marker_b2a9da124ca0410dac05e1a96c1d3cc8%20%3D%20L.marker%28%0A%20%20%20%20%20%20%20%20%20%20%20%20%20%20%20%20%5B24.626908329237857%2C%2046.69626970596627%5D%2C%0A%20%20%20%20%20%20%20%20%20%20%20%20%20%20%20%20%7B%7D%0A%20%20%20%20%20%20%20%20%20%20%20%20%29.addTo%28map_c1cc545d8a474fbd834083bc01853f25%29%3B%0A%20%20%20%20%20%20%20%20%0A%20%20%20%20%0A%20%20%20%20%20%20%20%20var%20popup_a98de8a5bc39463697d4ccfb262bebf3%20%3D%20L.popup%28%7B%22maxWidth%22%3A%20%22100%25%22%7D%29%3B%0A%0A%20%20%20%20%20%20%20%20%0A%20%20%20%20%20%20%20%20%20%20%20%20var%20html_e9be077340d849b4af532c7d08025cc8%20%3D%20%24%28%60%3Cdiv%20id%3D%22html_e9be077340d849b4af532c7d08025cc8%22%20style%3D%22width%3A%20100.0%25%3B%20height%3A%20100.0%25%3B%22%3EFarid%20Restaurant%3C/div%3E%60%29%5B0%5D%3B%0A%20%20%20%20%20%20%20%20%20%20%20%20popup_a98de8a5bc39463697d4ccfb262bebf3.setContent%28html_e9be077340d849b4af532c7d08025cc8%29%3B%0A%20%20%20%20%20%20%20%20%0A%0A%20%20%20%20%20%20%20%20marker_b2a9da124ca0410dac05e1a96c1d3cc8.bindPopup%28popup_a98de8a5bc39463697d4ccfb262bebf3%29%0A%20%20%20%20%20%20%20%20%3B%0A%0A%20%20%20%20%20%20%20%20%0A%20%20%20%20%0A%20%20%20%20%0A%20%20%20%20%20%20%20%20%20%20%20%20var%20marker_34ab0d1efe544d50a739d9052859a3be%20%3D%20L.marker%28%0A%20%20%20%20%20%20%20%20%20%20%20%20%20%20%20%20%5B24.625782%2C%2046.694134%5D%2C%0A%20%20%20%20%20%20%20%20%20%20%20%20%20%20%20%20%7B%7D%0A%20%20%20%20%20%20%20%20%20%20%20%20%29.addTo%28map_c1cc545d8a474fbd834083bc01853f25%29%3B%0A%20%20%20%20%20%20%20%20%0A%20%20%20%20%0A%20%20%20%20%20%20%20%20var%20popup_ad6e7c4293eb4b86bb8a29dbfd4ef901%20%3D%20L.popup%28%7B%22maxWidth%22%3A%20%22100%25%22%7D%29%3B%0A%0A%20%20%20%20%20%20%20%20%0A%20%20%20%20%20%20%20%20%20%20%20%20var%20html_b8f23f82053242cf972d1f9d10087e1d%20%3D%20%24%28%60%3Cdiv%20id%3D%22html_b8f23f82053242cf972d1f9d10087e1d%22%20style%3D%22width%3A%20100.0%25%3B%20height%3A%20100.0%25%3B%22%3ESaid%20Turkish%20Restaurant%20%D9%85%D8%B7%D8%B9%D9%85%20%D8%B3%D8%B9%D9%8A%D8%AF%20%D8%A7%D9%84%D8%AA%D8%B1%D9%83%D9%8A%3C/div%3E%60%29%5B0%5D%3B%0A%20%20%20%20%20%20%20%20%20%20%20%20popup_ad6e7c4293eb4b86bb8a29dbfd4ef901.setContent%28html_b8f23f82053242cf972d1f9d10087e1d%29%3B%0A%20%20%20%20%20%20%20%20%0A%0A%20%20%20%20%20%20%20%20marker_34ab0d1efe544d50a739d9052859a3be.bindPopup%28popup_ad6e7c4293eb4b86bb8a29dbfd4ef901%29%0A%20%20%20%20%20%20%20%20%3B%0A%0A%20%20%20%20%20%20%20%20%0A%20%20%20%20%0A%20%20%20%20%0A%20%20%20%20%20%20%20%20%20%20%20%20var%20marker_dfc63d6dfcb54648928aa74582c191f6%20%3D%20L.marker%28%0A%20%20%20%20%20%20%20%20%20%20%20%20%20%20%20%20%5B24.600993%2C%2046.699215%5D%2C%0A%20%20%20%20%20%20%20%20%20%20%20%20%20%20%20%20%7B%7D%0A%20%20%20%20%20%20%20%20%20%20%20%20%29.addTo%28map_c1cc545d8a474fbd834083bc01853f25%29%3B%0A%20%20%20%20%20%20%20%20%0A%20%20%20%20%0A%20%20%20%20%20%20%20%20var%20popup_06ad27cba37b4d7ab6724b6ec86372a0%20%3D%20L.popup%28%7B%22maxWidth%22%3A%20%22100%25%22%7D%29%3B%0A%0A%20%20%20%20%20%20%20%20%0A%20%20%20%20%20%20%20%20%20%20%20%20var%20html_d78b63b9d4f441d18a2a60431896011f%20%3D%20%24%28%60%3Cdiv%20id%3D%22html_d78b63b9d4f441d18a2a60431896011f%22%20style%3D%22width%3A%20100.0%25%3B%20height%3A%20100.0%25%3B%22%3EAl%20Sheraa%20Restaurant%20%28%D9%85%D8%B7%D8%A7%D8%B9%D9%85%20%D8%A7%D9%84%D8%B4%D8%B1%D8%A7%D8%B9%29%3C/div%3E%60%29%5B0%5D%3B%0A%20%20%20%20%20%20%20%20%20%20%20%20popup_06ad27cba37b4d7ab6724b6ec86372a0.setContent%28html_d78b63b9d4f441d18a2a60431896011f%29%3B%0A%20%20%20%20%20%20%20%20%0A%0A%20%20%20%20%20%20%20%20marker_dfc63d6dfcb54648928aa74582c191f6.bindPopup%28popup_06ad27cba37b4d7ab6724b6ec86372a0%29%0A%20%20%20%20%20%20%20%20%3B%0A%0A%20%20%20%20%20%20%20%20%0A%20%20%20%20%0A%20%20%20%20%0A%20%20%20%20%20%20%20%20%20%20%20%20var%20marker_0b644a12379d4d6d93e82b26b505a627%20%3D%20L.marker%28%0A%20%20%20%20%20%20%20%20%20%20%20%20%20%20%20%20%5B24.63462260715829%2C%2046.71656477952786%5D%2C%0A%20%20%20%20%20%20%20%20%20%20%20%20%20%20%20%20%7B%7D%0A%20%20%20%20%20%20%20%20%20%20%20%20%29.addTo%28map_c1cc545d8a474fbd834083bc01853f25%29%3B%0A%20%20%20%20%20%20%20%20%0A%20%20%20%20%0A%20%20%20%20%20%20%20%20var%20popup_411d946a8a6842c88dcd175d50e2eda5%20%3D%20L.popup%28%7B%22maxWidth%22%3A%20%22100%25%22%7D%29%3B%0A%0A%20%20%20%20%20%20%20%20%0A%20%20%20%20%20%20%20%20%20%20%20%20var%20html_3d9b3fd95ad048cc94342eb3f552dbed%20%3D%20%24%28%60%3Cdiv%20id%3D%22html_3d9b3fd95ad048cc94342eb3f552dbed%22%20style%3D%22width%3A%20100.0%25%3B%20height%3A%20100.0%25%3B%22%3ERosai%20Restaurant%3C/div%3E%60%29%5B0%5D%3B%0A%20%20%20%20%20%20%20%20%20%20%20%20popup_411d946a8a6842c88dcd175d50e2eda5.setContent%28html_3d9b3fd95ad048cc94342eb3f552dbed%29%3B%0A%20%20%20%20%20%20%20%20%0A%0A%20%20%20%20%20%20%20%20marker_0b644a12379d4d6d93e82b26b505a627.bindPopup%28popup_411d946a8a6842c88dcd175d50e2eda5%29%0A%20%20%20%20%20%20%20%20%3B%0A%0A%20%20%20%20%20%20%20%20%0A%20%20%20%20%0A%20%20%20%20%0A%20%20%20%20%20%20%20%20%20%20%20%20var%20marker_8ef42626f0124769be50f73b81843be2%20%3D%20L.marker%28%0A%20%20%20%20%20%20%20%20%20%20%20%20%20%20%20%20%5B24.61864410450336%2C%2046.72649589348254%5D%2C%0A%20%20%20%20%20%20%20%20%20%20%20%20%20%20%20%20%7B%7D%0A%20%20%20%20%20%20%20%20%20%20%20%20%29.addTo%28map_c1cc545d8a474fbd834083bc01853f25%29%3B%0A%20%20%20%20%20%20%20%20%0A%20%20%20%20%0A%20%20%20%20%20%20%20%20var%20popup_eb4857b6a41a4315a8c119a9bb0db3eb%20%3D%20L.popup%28%7B%22maxWidth%22%3A%20%22100%25%22%7D%29%3B%0A%0A%20%20%20%20%20%20%20%20%0A%20%20%20%20%20%20%20%20%20%20%20%20var%20html_fddafad489d14748b2ef520a699d477c%20%3D%20%24%28%60%3Cdiv%20id%3D%22html_fddafad489d14748b2ef520a699d477c%22%20style%3D%22width%3A%20100.0%25%3B%20height%3A%20100.0%25%3B%22%3EDeccan%20Darbar%20Restaurant%20%28%D9%85%D8%B7%D8%B9%D9%85%20%D8%B3%D9%86%D8%A9%29%3C/div%3E%60%29%5B0%5D%3B%0A%20%20%20%20%20%20%20%20%20%20%20%20popup_eb4857b6a41a4315a8c119a9bb0db3eb.setContent%28html_fddafad489d14748b2ef520a699d477c%29%3B%0A%20%20%20%20%20%20%20%20%0A%0A%20%20%20%20%20%20%20%20marker_8ef42626f0124769be50f73b81843be2.bindPopup%28popup_eb4857b6a41a4315a8c119a9bb0db3eb%29%0A%20%20%20%20%20%20%20%20%3B%0A%0A%20%20%20%20%20%20%20%20%0A%20%20%20%20%0A%3C/script%3E onload=\"this.contentDocument.open();this.contentDocument.write(    decodeURIComponent(this.getAttribute('data-html')));this.contentDocument.close();\" allowfullscreen webkitallowfullscreen mozallowfullscreen></iframe></div></div>"
      ],
      "text/plain": [
       "<folium.folium.Map at 0x223665de520>"
      ]
     },
     "execution_count": 122,
     "metadata": {},
     "output_type": "execute_result"
    }
   ],
   "source": [
    "Riyadh_map = folium.Map(coords, zoom_start = 14)\n",
    "#get coords from table\n",
    "latitude = df[\"latitude\"].tolist()\n",
    "longitude = df[\"longitude\"].tolist()\n",
    "restaurant = df[\"Restaurant\"].tolist()\n",
    "\n",
    "for n in range(len(latitude)):\n",
    "    coords = latitude[n],longitude[n]\n",
    "    folium.Marker([coords[0], coords[1]], popup = restaurant[n]).add_to(Riyadh_map)\n",
    "    \n",
    "Riyadh_map\n"
   ]
  },
  {
   "cell_type": "code",
   "execution_count": 111,
   "metadata": {},
   "outputs": [],
   "source": [
    "my_url = \"https://www.google.com/maps/search/saudi+arabia,+riyadh,+residents/@24.7984497,46.6521377,10z\"\n",
    "uClient = uReq(my_url)\n",
    "page_html = uClient.read()\n",
    "uClient.close()\n",
    "page_soup = Soup(page_html, \"html.parser\")"
   ]
  },
  {
   "cell_type": "code",
   "execution_count": null,
   "metadata": {},
   "outputs": [],
   "source": []
  }
 ],
 "metadata": {
  "kernelspec": {
   "display_name": "Python 3",
   "language": "python",
   "name": "python3"
  },
  "language_info": {
   "codemirror_mode": {
    "name": "ipython",
    "version": 3
   },
   "file_extension": ".py",
   "mimetype": "text/x-python",
   "name": "python",
   "nbconvert_exporter": "python",
   "pygments_lexer": "ipython3",
   "version": "3.8.3"
  }
 },
 "nbformat": 4,
 "nbformat_minor": 4
}
