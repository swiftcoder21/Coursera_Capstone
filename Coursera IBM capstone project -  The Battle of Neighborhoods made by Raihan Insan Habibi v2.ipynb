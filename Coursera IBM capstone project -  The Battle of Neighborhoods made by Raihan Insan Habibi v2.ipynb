{
 "cells": [
  {
   "cell_type": "markdown",
   "metadata": {},
   "source": [
    "# Coursera IBM capstone project -  The Battle of Neighborhoods"
   ]
  },
  {
   "cell_type": "markdown",
   "metadata": {},
   "source": [
    "<p> project title: </p>"
   ]
  },
  {
   "cell_type": "markdown",
   "metadata": {},
   "source": [
    "<h2>Finding a perfect location for opening a new restaurant that is suitable during the ‘covid - 19’ pandemic in Riyadh, Saudi Arabia using Data science and analytical tools</h2>"
   ]
  },
  {
   "cell_type": "markdown",
   "metadata": {},
   "source": [
    "<p> Author: Raihan Insan Habibi</p>"
   ]
  },
  {
   "cell_type": "markdown",
   "metadata": {},
   "source": [
    "<b>1. Introduction / business problems</b>"
   ]
  },
  {
   "cell_type": "markdown",
   "metadata": {},
   "source": [
    "On 4th May 2020, Saudi Arabia was struck by a deadly virus called the coronavirus also known by its scientific name 'covid-19'. and on the 9th of September 2020, the recovery rate in Saudi Arabia has increased dramatically because of the new-normal systems. social distancing has changed many methods for many businesses, especially for restaurants. Since things are slowly going back to normal, finding a perfect location to open up a new restaurant would be a good idea. Finding a perfect location requires various factors that data scientists need to consider and process, as well as all of the access of data information around the neighbourhood. In this report, I will be describing a simple analysis of data from Riyadh, Saudi Arabia city neighbourhood to find a a decent location to open up a new restaurant."
   ]
  },
  {
   "cell_type": "markdown",
   "metadata": {},
   "source": [
    "<b>2. Data</b>"
   ]
  },
  {
   "cell_type": "markdown",
   "metadata": {},
   "source": [
    "(all data resources will be here)"
   ]
  },
  {
   "cell_type": "code",
   "execution_count": 6,
   "metadata": {},
   "outputs": [
    {
     "name": "stdout",
     "output_type": "stream",
     "text": [
      "libaries imported\n"
     ]
    }
   ],
   "source": [
    "import numpy as np\n",
    "import pandas as pd\n",
    "import requests\n",
    "#!pip install geopy\n",
    "import geopy\n",
    "#!pip install folium\n",
    "import folium\n",
    "print(\"libaries imported\")"
   ]
  },
  {
   "cell_type": "code",
   "execution_count": null,
   "metadata": {},
   "outputs": [],
   "source": []
  }
 ],
 "metadata": {
  "kernelspec": {
   "display_name": "Python 3",
   "language": "python",
   "name": "python3"
  },
  "language_info": {
   "codemirror_mode": {
    "name": "ipython",
    "version": 3
   },
   "file_extension": ".py",
   "mimetype": "text/x-python",
   "name": "python",
   "nbconvert_exporter": "python",
   "pygments_lexer": "ipython3",
   "version": "3.8.3"
  }
 },
 "nbformat": 4,
 "nbformat_minor": 4
}
